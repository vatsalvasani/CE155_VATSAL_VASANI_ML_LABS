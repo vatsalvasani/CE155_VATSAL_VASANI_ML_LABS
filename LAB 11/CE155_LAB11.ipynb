{
  "nbformat": 4,
  "nbformat_minor": 0,
  "metadata": {
    "colab": {
      "provenance": [],
      "include_colab_link": true
    },
    "kernelspec": {
      "name": "python3",
      "display_name": "Python 3"
    },
    "language_info": {
      "name": "python"
    }
  },
  "cells": [
    {
      "cell_type": "markdown",
      "metadata": {
        "id": "view-in-github",
        "colab_type": "text"
      },
      "source": [
        "<a href=\"https://colab.research.google.com/github/vatsalvasani/CE155_VATSAL_VASANI_ML_LABS/blob/main/LAB%2011/CE155_LAB11.ipynb\" target=\"_parent\"><img src=\"https://colab.research.google.com/assets/colab-badge.svg\" alt=\"Open In Colab\"/></a>"
      ]
    },
    {
      "cell_type": "markdown",
      "source": [
        "# **LAB 11 : LABWORK**"
      ],
      "metadata": {
        "id": "WzY3jQhhCGUf"
      }
    },
    {
      "cell_type": "markdown",
      "source": [
        "# To perform linear svm on make blob dataset \n",
        "A) C = 2"
      ],
      "metadata": {
        "id": "iFrIlPfEK8FP"
      }
    },
    {
      "cell_type": "code",
      "execution_count": null,
      "metadata": {
        "id": "uhE__2F_K5rN",
        "colab": {
          "base_uri": "https://localhost:8080/"
        },
        "outputId": "9e0ecd59-be76-4300-8302-530572b0f4fd"
      },
      "outputs": [
        {
          "output_type": "stream",
          "name": "stdout",
          "text": [
            "[[1001    0]\n",
            " [   0  999]]\n",
            "accuracy 1.0\n",
            "precision 1.0\n",
            "recall 1.0\n"
          ]
        }
      ],
      "source": [
        "from sklearn.datasets import make_blobs\n",
        "from sklearn.svm import SVC\n",
        "from sklearn.model_selection import train_test_split\n",
        "from sklearn.metrics import accuracy_score,confusion_matrix,precision_score,recall_score\n",
        "\n",
        "def measures(y_test,y_pred):\n",
        "  print(confusion_matrix(y_test,y_pred))\n",
        "  return {\n",
        "      \"accuracy\":accuracy_score(y_test,y_pred),\n",
        "      \"precision\":precision_score(y_test,y_pred,average='micro'),\n",
        "      \"recall\":recall_score(y_test,y_pred,average='micro')\n",
        "  }\n",
        "  pass\n",
        "\n",
        "X,y=make_blobs(n_samples=10000,centers=2,n_features=4)\n",
        "X_train,X_test,y_train,y_test=train_test_split(X,y,test_size=0.2,random_state=155)\n",
        "model=SVC(C=2).fit(X_train,y_train)\n",
        "y_pred=model.predict(X_test)\n",
        "\n",
        "metrics=measures(y_test,y_pred)\n",
        "\n",
        "for metric in metrics:\n",
        "  print(metric,metrics[metric])\n",
        "\n"
      ]
    },
    {
      "cell_type": "markdown",
      "source": [
        "B) C = 300\n"
      ],
      "metadata": {
        "id": "87S3JdoWCa-F"
      }
    },
    {
      "cell_type": "code",
      "source": [
        "from sklearn.datasets import make_blobs\n",
        "from sklearn.svm import SVC\n",
        "from sklearn.model_selection import train_test_split\n",
        "from sklearn.metrics import accuracy_score,confusion_matrix,precision_score,recall_score\n",
        "\n",
        "def measures(y_test,y_pred):\n",
        "  print(confusion_matrix(y_test,y_pred))\n",
        "  return {\n",
        "      \"accuracy\":accuracy_score(y_test,y_pred),\n",
        "      \"precision\":precision_score(y_test,y_pred,average='micro'),\n",
        "      \"recall\":recall_score(y_test,y_pred,average='micro')\n",
        "  }\n",
        "  pass\n",
        "\n",
        "X,y=make_blobs(n_samples=10000,centers=2,n_features=4)\n",
        "X_train,X_test,y_train,y_test=train_test_split(X,y,test_size=0.2,random_state=155)\n",
        "model=SVC(C=300).fit(X_train,y_train)\n",
        "y_pred=model.predict(X_test)\n",
        "\n",
        "metrics=measures(y_test,y_pred)\n",
        "\n",
        "for metric in metrics:\n",
        "  print(metric,metrics[metric])\n",
        "\n"
      ],
      "metadata": {
        "colab": {
          "base_uri": "https://localhost:8080/"
        },
        "id": "43qxgApuCcNi",
        "outputId": "9c9ab55a-5848-4473-91b9-0cf817cd90a3"
      },
      "execution_count": null,
      "outputs": [
        {
          "output_type": "stream",
          "name": "stdout",
          "text": [
            "[[ 976    0]\n",
            " [   0 1024]]\n",
            "accuracy 1.0\n",
            "precision 1.0\n",
            "recall 1.0\n"
          ]
        }
      ]
    },
    {
      "cell_type": "markdown",
      "source": [
        "# To use linear svm on breast cancer dataset\n",
        "A) C = 2\n",
        "\n",
        "**LINEAR**  :\n",
        "\n",
        "accuracy 0.9385964912280702\n",
        "\n",
        "precision 0.9390243902439024\n",
        "\n",
        "recall 0.9746835443037974\n",
        "\n",
        "\n",
        "**RBF** : \n",
        "\n",
        "accuracy 0.9210526315789473\n",
        "\n",
        "precision 0.9166666666666666\n",
        "\n",
        "recall 0.9746835443037974\n",
        "\n",
        "\n",
        "**POLYNOMIAL** : \n",
        "\n",
        "accuracy 0.9035087719298246\n",
        "\n",
        "precision 0.9047619047619048\n",
        "\n",
        "recall 0.9620253164556962\n",
        "\n"
      ],
      "metadata": {
        "id": "b86UxmDMMOaI"
      }
    },
    {
      "cell_type": "code",
      "source": [
        "from sklearn.datasets import load_breast_cancer\n",
        "from sklearn.svm import SVC\n",
        "from sklearn.model_selection import train_test_split\n",
        "from sklearn.metrics import accuracy_score,confusion_matrix\n",
        "\n",
        "def measures(y_true,y_pred):\n",
        "  cmat=confusion_matrix(y_true=y_test,y_pred=y_pred)\n",
        "  tn, fp, fn, tp=cmat.ravel()\n",
        "  print(\"tn : \",tn,\" , fp : \",fp,\" , fn : \",fn,\" , tp : \",tp)\n",
        "  return {\n",
        "      \"accuracy\":(tn+tp)/(tn+fp+fn+tp),\n",
        "      \"precision\":(tp)/(fp+tp),\n",
        "      \"recall\":(tp)/(fn+tp)\n",
        "  }\n",
        "  pass\n",
        "\n",
        "ds=load_breast_cancer()\n",
        "X=ds.data\n",
        "y=ds.target\n",
        "X_train,X_test,y_train,y_test=train_test_split(X,y,test_size=0.2,random_state=155)\n",
        "# model=SVC(kernel=\"linear\",C=2).fit(X_train,y_train)\n",
        "\n",
        "# tn :  30  , fp :  5  , fn :  2  , tp :  77\n",
        "# accuracy 0.9385964912280702\n",
        "# precision 0.9390243902439024\n",
        "# recall 0.9746835443037974\n",
        "\n",
        "\n",
        "# model=SVC(kernel=\"rbf\",C=2).fit(X_train,y_train)\n",
        "# tn :  28  , fp :  7  , fn :  2  , tp :  77\n",
        "# accuracy 0.9210526315789473\n",
        "# precision 0.9166666666666666\n",
        "# recall 0.9746835443037974\n",
        "\n",
        "model=SVC(kernel=\"poly\",C=2).fit(X_train,y_train)\n",
        "\n",
        "# tn :  27  , fp :  8  , fn :  3  , tp :  76\n",
        "# accuracy 0.9035087719298246\n",
        "# precision 0.9047619047619048\n",
        "# recall 0.9620253164556962\n",
        "\n",
        "y_pred=model.predict(X_test)\n",
        "\n",
        "metrics=measures(y_test,y_pred)\n",
        "\n",
        "for metric in metrics:\n",
        "  print(metric,metrics[metric])\n",
        "\n"
      ],
      "metadata": {
        "colab": {
          "base_uri": "https://localhost:8080/"
        },
        "id": "ISCsnrejMS6n",
        "outputId": "c0786c50-c717-4c94-fc14-244adf08f146"
      },
      "execution_count": null,
      "outputs": [
        {
          "output_type": "stream",
          "name": "stdout",
          "text": [
            "tn :  27  , fp :  8  , fn :  3  , tp :  76\n",
            "accuracy 0.9035087719298246\n",
            "precision 0.9047619047619048\n",
            "recall 0.9620253164556962\n"
          ]
        }
      ]
    },
    {
      "cell_type": "markdown",
      "source": [
        "B) C = 300\n",
        "\n",
        "\n",
        "**LINEAR**  :\n",
        "\n",
        "accuracy 0.9298245614035088\n",
        "\n",
        "precision 0.927710843373494\n",
        "\n",
        "recall 0.9746835443037974\n",
        "\n",
        "\n",
        "\n",
        "**RBF** : \n",
        "\n",
        "accuracy 0.9298245614035088\n",
        "\n",
        "precision 0.9382716049382716\n",
        "\n",
        "recall 0.9620253164556962\n",
        "\n",
        "\n",
        "\n",
        "**POLYNOMIAL** : \n",
        "\n",
        "accuracy 0.9122807017543859\n",
        "\n",
        "precision 0.9156626506024096\n",
        "\n",
        "recall 0.9620253164556962"
      ],
      "metadata": {
        "id": "wI-tdnH7Ci6x"
      }
    },
    {
      "cell_type": "code",
      "source": [
        "from sklearn.datasets import load_breast_cancer\n",
        "from sklearn.svm import SVC\n",
        "from sklearn.model_selection import train_test_split\n",
        "from sklearn.metrics import accuracy_score,confusion_matrix\n",
        "\n",
        "def measures(y_true,y_pred):\n",
        "  cmat=confusion_matrix(y_true=y_test,y_pred=y_pred)\n",
        "  tn, fp, fn, tp=cmat.ravel()\n",
        "  print(\"tn : \",tn,\" , fp : \",fp,\" , fn : \",fn,\" , tp : \",tp)\n",
        "  return {\n",
        "      \"accuracy\":(tn+tp)/(tn+fp+fn+tp),\n",
        "      \"precision\":(tp)/(fp+tp),\n",
        "      \"recall\":(tp)/(fn+tp)\n",
        "  }\n",
        "  pass\n",
        "\n",
        "ds=load_breast_cancer()\n",
        "X=ds.data\n",
        "y=ds.target\n",
        "X_train,X_test,y_train,y_test=train_test_split(X,y,test_size=0.2,random_state=155)\n",
        "\n",
        "# model=SVC(kernel=\"linear\",C=300).fit(X_train,y_train)\n",
        "\n",
        "# tn :  29  , fp :  6  , fn :  2  , tp :  77\n",
        "# accuracy 0.9298245614035088\n",
        "# precision 0.927710843373494\n",
        "# recall 0.9746835443037974\n",
        "\n",
        "\n",
        "# model=SVC(kernel=\"rbf\",C=300).fit(X_train,y_train)\n",
        "\n",
        "# tn :  30  , fp :  5  , fn :  3  , tp :  76\n",
        "# accuracy 0.9298245614035088\n",
        "# precision 0.9382716049382716\n",
        "# recall 0.9620253164556962\n",
        "\n",
        "\n",
        "model=SVC(kernel=\"poly\",C=300).fit(X_train,y_train)\n",
        "\n",
        "# tn :  28  , fp :  7  , fn :  3  , tp :  76\n",
        "# accuracy 0.9122807017543859\n",
        "# precision 0.9156626506024096\n",
        "# recall 0.9620253164556962\n",
        "\n",
        "\n",
        "y_pred=model.predict(X_test)\n",
        "\n",
        "metrics=measures(y_test,y_pred)\n",
        "\n",
        "for metric in metrics:\n",
        "  print(metric,metrics[metric])\n",
        "\n"
      ],
      "metadata": {
        "colab": {
          "base_uri": "https://localhost:8080/"
        },
        "id": "9fJPLR8TClD-",
        "outputId": "3f502c06-9c2a-4925-9277-862250007eb9"
      },
      "execution_count": null,
      "outputs": [
        {
          "output_type": "stream",
          "name": "stdout",
          "text": [
            "tn :  28  , fp :  7  , fn :  3  , tp :  76\n",
            "accuracy 0.9122807017543859\n",
            "precision 0.9156626506024096\n",
            "recall 0.9620253164556962\n"
          ]
        }
      ]
    }
  ]
}