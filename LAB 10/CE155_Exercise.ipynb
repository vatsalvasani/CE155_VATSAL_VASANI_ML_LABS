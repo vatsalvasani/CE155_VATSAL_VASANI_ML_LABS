{
  "nbformat": 4,
  "nbformat_minor": 0,
  "metadata": {
    "colab": {
      "provenance": [],
      "include_colab_link": true
    },
    "kernelspec": {
      "name": "python3",
      "display_name": "Python 3"
    },
    "language_info": {
      "name": "python"
    }
  },
  "cells": [
    {
      "cell_type": "markdown",
      "metadata": {
        "id": "view-in-github",
        "colab_type": "text"
      },
      "source": [
        "<a href=\"https://colab.research.google.com/github/vatsalvasani/CE155_ML/blob/main/LAB%2010/CE155_Exercise.ipynb\" target=\"_parent\"><img src=\"https://colab.research.google.com/assets/colab-badge.svg\" alt=\"Open In Colab\"/></a>"
      ]
    },
    {
      "cell_type": "markdown",
      "source": [
        " \n",
        "# LAB 10 : Exercise"
      ],
      "metadata": {
        "id": "gL4kfIfMR6kO"
      }
    },
    {
      "cell_type": "markdown",
      "source": [
        "# Q1) Train the Naive Bayes model without PCA and compare the result with PCA + Naive Bayes. Write down your observations. \n"
      ],
      "metadata": {
        "id": "EF8zWWvcUjcd"
      }
    },
    {
      "cell_type": "code",
      "source": [
        "from sklearn.decomposition import PCA\n",
        "from sklearn.datasets import fetch_olivetti_faces\n",
        "from sklearn.model_selection import train_test_split\n",
        "from sklearn.naive_bayes import GaussianNB\n",
        "from sklearn.metrics import accuracy_score\n",
        "from sklearn.svm import SVC\n",
        "from sklearn.tree import DecisionTreeClassifier\n",
        "from sklearn.pipeline import Pipeline\n",
        "from sklearn.preprocessing import StandardScaler\n",
        "\n",
        "df=fetch_olivetti_faces()\n",
        "X=df.data\n",
        "y=df.target\n",
        "\n",
        "def gnb_classify(X_train,X_test,y_train,y_test):\n",
        "  gnb=GaussianNB()\n",
        "  gnb.fit(X_train,y_train)\n",
        "  gnb_pred=gnb.predict(X_test)\n",
        "  return accuracy_score(y_test,gnb_pred)\n",
        "  pass\n",
        "def dt_classify(X_train,X_test,y_train,y_test):\n",
        "  dt=DecisionTreeClassifier()\n",
        "  dt.fit(X_train,y_train)\n",
        "  dt_pred=dt.predict(X_test)\n",
        "  return accuracy_score(y_test,dt_pred)\n",
        "  pass\n",
        "def svm_classify(X_train,X_test,y_train,y_test):\n",
        "  svm=SVC()\n",
        "  svm.fit(X_train,y_train)\n",
        "  svm_pred=svm.predict(X_test)\n",
        "  return accuracy_score(y_test,svm_pred)\n",
        "  pass\n",
        "\n",
        "def pipe_classify(X_train,X_test,y_train,y_test,models):\n",
        "  pipe_model=Pipeline(models)\n",
        "  pipe_model.fit(X_train,y_train)\n",
        "  pipe_pred=pipe_model.predict(X_test)\n",
        "  return accuracy_score(y_test,pipe_pred)\n",
        "  pass\n",
        "\n",
        "\n",
        "X_train,X_test,y_train,y_test=train_test_split(X,y,test_size=0.2,random_state=155)\n",
        "\n",
        "print(\"before pca : \")\n",
        "\n",
        "gnb_accuracy=gnb_classify(X_train,X_test,y_train,y_test)\n",
        "svm_accuracy=svm_classify(X_train,X_test,y_train,y_test)\n",
        "\n",
        "print(\"gnb_accuracy : \",gnb_accuracy)\n",
        "print(\"svm_accuracy : \",svm_accuracy)\n",
        "\n",
        "pca=PCA(n_components=200,whiten=True)\n",
        "pca.fit(X_train)\n",
        "\n",
        "X_train=pca.transform(X_train)\n",
        "X_test=pca.transform(X_test)\n",
        "\n",
        "gnb_accuracy=gnb_classify(X_train,X_test,y_train,y_test)\n",
        "svm_accuracy=svm_classify(X_train,X_test,y_train,y_test)\n",
        "print(\"after pca : \")\n",
        "print(\"gnb_accuracy : \",gnb_accuracy)\n",
        "print(\"svm_accuracy : \",svm_accuracy)\n",
        "models=[('scaler', StandardScaler()),('svc', SVC())]\n",
        "\n"
      ],
      "metadata": {
        "id": "rNfnI6UBSOLm",
        "colab": {
          "base_uri": "https://localhost:8080/"
        },
        "outputId": "4071c5b1-17c6-4381-f910-fd3547dfd87b"
      },
      "execution_count": 9,
      "outputs": [
        {
          "output_type": "stream",
          "name": "stdout",
          "text": [
            "before pca : \n",
            "gnb_accuracy :  0.875\n",
            "svm_accuracy :  0.925\n",
            "after pca : \n",
            "gnb_accuracy :  0.9\n",
            "svm_accuracy :  0.8\n"
          ]
        }
      ]
    },
    {
      "cell_type": "markdown",
      "source": [
        "# 2. Run PCA on IRIS dataset. Visualise the output in 2 dimensions using to Principal  omponents. Choose different pairs of principal components and note down your observations"
      ],
      "metadata": {
        "id": "WdPZ3vyPSPFA"
      }
    },
    {
      "cell_type": "code",
      "source": [
        "from sklearn.decomposition import PCA\n",
        "from sklearn.datasets import load_iris\n",
        "from sklearn.model_selection import train_test_split\n",
        "from sklearn.naive_bayes import GaussianNB\n",
        "from sklearn.metrics import accuracy_score\n",
        "from sklearn.svm import SVC\n",
        "from sklearn.tree import DecisionTreeClassifier\n",
        "from sklearn.pipeline import Pipeline\n",
        "from sklearn.preprocessing import StandardScaler\n",
        "\n",
        "df=load_iris()\n",
        "X=df.data\n",
        "y=df.target\n",
        "\n",
        "def gnb_classify(X_train,X_test,y_train,y_test):\n",
        "  gnb=GaussianNB()\n",
        "  gnb.fit(X_train,y_train)\n",
        "  gnb_pred=gnb.predict(X_test)\n",
        "  return accuracy_score(y_test,gnb_pred)\n",
        "  pass\n",
        "\n",
        "\n",
        "X_train,X_test,y_train,y_test=train_test_split(X,y,test_size=0.2,random_state=155)\n",
        "\n",
        "print(\"before pca : \")\n",
        "\n",
        "gnb_accuracy=gnb_classify(X_train,X_test,y_train,y_test)\n",
        "print(\"gnb_accuracy : \",gnb_accuracy)\n",
        "\n",
        "pca=PCA(n_components=2)\n",
        "pca.fit(X_train)\n",
        "\n",
        "\n",
        "X_train=pca.transform(X_train)\n",
        "X_test=pca.transform(X_test)\n",
        "\n",
        "print(\"after pca : X_test : \",X_test)\n",
        "\n",
        "gnb_accuracy=gnb_classify(X_train,X_test,y_train,y_test)\n",
        "print(\"after pca : \");\n",
        "print(\"gnb_accuracy : \",gnb_accuracy)\n",
        "\n"
      ],
      "metadata": {
        "colab": {
          "base_uri": "https://localhost:8080/"
        },
        "id": "QfSyyXNmSSrO",
        "outputId": "d4a040e9-b31b-42da-c656-9facda51e221"
      },
      "execution_count": 10,
      "outputs": [
        {
          "output_type": "stream",
          "name": "stdout",
          "text": [
            "before pca : \n",
            "gnb_accuracy :  1.0\n",
            "after pca : X_test :  [[-2.67039163e+00 -1.12666874e-01]\n",
            " [-2.47288017e+00  4.22313623e-01]\n",
            " [-2.69927406e+00  5.37372175e-01]\n",
            " [ 1.36330338e+00 -3.38999164e-01]\n",
            " [-2.80918094e+00  8.44821928e-01]\n",
            " [ 3.07036987e+00  1.38721260e+00]\n",
            " [-3.05188543e+00 -1.05602592e-01]\n",
            " [ 1.00716272e+00 -1.28080356e-01]\n",
            " [-3.00229576e+00 -1.90120029e-01]\n",
            " [-2.94984969e+00 -2.01683045e-01]\n",
            " [-2.77503451e+00  4.87535337e-02]\n",
            " [-3.38726406e+00 -4.71647907e-01]\n",
            " [-8.69504733e-01 -9.78174115e-01]\n",
            " [ 2.21836008e-03 -6.49493188e-01]\n",
            " [-3.37745868e+00  1.78490834e-01]\n",
            " [ 9.24598008e-01  1.02246230e-01]\n",
            " [ 2.45193407e+00  5.74411768e-01]\n",
            " [-2.32914027e-01 -6.76997450e-01]\n",
            " [-2.87781299e+00 -1.39950940e-01]\n",
            " [ 8.21869262e-01 -1.01807681e-01]\n",
            " [ 1.74305741e+00  7.32086220e-02]\n",
            " [-2.80563155e+00  1.21791071e+00]\n",
            " [ 7.65101449e-01  4.94213421e-01]\n",
            " [-3.36863898e-01 -2.15442678e-01]\n",
            " [ 1.12223409e+00  7.06373914e-01]\n",
            " [ 2.40172127e+00  3.13193268e-01]\n",
            " [ 1.16822465e+00  2.64117129e-01]\n",
            " [-2.75877363e+00  1.12958604e+00]\n",
            " [-2.36116368e+00  9.07224723e-01]\n",
            " [ 1.94341195e-01 -3.76305322e-02]]\n",
            "after pca : \n",
            "gnb_accuracy :  0.9\n"
          ]
        }
      ]
    },
    {
      "cell_type": "markdown",
      "source": [
        "# 3. Run PCA + Naive Bayes classifier on IRIS dataset and calculate precision and recall of the system.\n"
      ],
      "metadata": {
        "id": "bt1bL0gfSTPO"
      }
    },
    {
      "cell_type": "code",
      "source": [
        "from sklearn.decomposition import PCA\n",
        "from sklearn.datasets import load_iris\n",
        "from sklearn.model_selection import train_test_split\n",
        "from sklearn.naive_bayes import GaussianNB\n",
        "from sklearn.metrics import accuracy_score\n",
        "from sklearn.svm import SVC\n",
        "from sklearn.tree import DecisionTreeClassifier\n",
        "from sklearn.pipeline import Pipeline\n",
        "from sklearn.preprocessing import StandardScaler\n",
        "from sklearn.metrics import classification_report\n",
        "from sklearn.metrics import confusion_matrix\n",
        "df=load_iris()\n",
        "X=df.data\n",
        "y=df.target\n",
        "\n",
        "def gnb_classify(X_train,X_test,y_train,y_test):\n",
        "  gnb=GaussianNB()\n",
        "  gnb.fit(X_train,y_train)\n",
        "  \n",
        "  gnb_pred=gnb.predict(X_test)\n",
        "  print(\"classifcation report : \")\n",
        "  print(classification_report(y_test,gnb_pred))\n",
        "  print(confusion_matrix(y_test,gnb_pred))\n",
        "  return accuracy_score(y_test,gnb_pred)\n",
        "  pass\n",
        "\n",
        "\n",
        "X_train,X_test,y_train,y_test=train_test_split(X,y,test_size=0.4,random_state=155)\n",
        "\n",
        "print(\"before pca : \")\n",
        "\n",
        "gnb_accuracy=gnb_classify(X_train,X_test,y_train,y_test)\n",
        "print(\"gnb_accuracy : \",gnb_accuracy)\n",
        "\n",
        "pca=PCA(n_components=2)\n",
        "pca.fit(X_train)\n",
        "\n",
        "\n",
        "X_train=pca.transform(X_train)\n",
        "X_test=pca.transform(X_test)\n",
        "\n",
        "print(\"after pca : X_test : \",X_test)\n",
        "\n",
        "gnb_accuracy=gnb_classify(X_train,X_test,y_train,y_test)\n",
        "print(\"after pca : \")\n",
        "print(\"gnb_accuracy : \",gnb_accuracy)\n",
        "\n"
      ],
      "metadata": {
        "colab": {
          "base_uri": "https://localhost:8080/"
        },
        "id": "JSyhorcGSYBG",
        "outputId": "5ed05cb9-a5d1-4938-8ed4-8c44992139e5"
      },
      "execution_count": 11,
      "outputs": [
        {
          "output_type": "stream",
          "name": "stdout",
          "text": [
            "before pca : \n",
            "classifcation report : \n",
            "              precision    recall  f1-score   support\n",
            "\n",
            "           0       1.00      1.00      1.00        22\n",
            "           1       0.86      1.00      0.93        19\n",
            "           2       1.00      0.84      0.91        19\n",
            "\n",
            "    accuracy                           0.95        60\n",
            "   macro avg       0.95      0.95      0.95        60\n",
            "weighted avg       0.96      0.95      0.95        60\n",
            "\n",
            "[[22  0  0]\n",
            " [ 0 19  0]\n",
            " [ 0  3 16]]\n",
            "gnb_accuracy :  0.95\n",
            "after pca : X_test :  [[-2.62731675 -0.12604975]\n",
            " [-2.43173075  0.41045274]\n",
            " [-2.66076114  0.53049312]\n",
            " [ 1.40673486 -0.34021512]\n",
            " [-2.77210722  0.83929833]\n",
            " [ 3.10734452  1.39871312]\n",
            " [-3.01021086 -0.11776847]\n",
            " [ 1.04757554 -0.1240058 ]\n",
            " [-2.9607664  -0.20054076]\n",
            " [-2.90676143 -0.21509518]\n",
            " [-2.73451879  0.04055317]\n",
            " [-3.34463034 -0.48411759]\n",
            " [-0.82426211 -0.98436072]\n",
            " [ 0.04610733 -0.65202784]\n",
            " [-3.33813018  0.16781649]\n",
            " [ 0.96730751  0.09981102]\n",
            " [ 2.49210659  0.58271343]\n",
            " [-0.18803693 -0.68164327]\n",
            " [-2.8347815  -0.1545074 ]\n",
            " [ 0.86368363 -0.09889944]\n",
            " [ 1.78309359  0.08191412]\n",
            " [-2.76737227  1.20355336]\n",
            " [ 0.80651696  0.49138852]\n",
            " [-0.29506452 -0.21900319]\n",
            " [ 1.16329745  0.70506054]\n",
            " [ 2.4406424   0.32175054]\n",
            " [ 1.21136815  0.26168311]\n",
            " [-2.72208436  1.12131025]\n",
            " [-2.3221851   0.89631307]\n",
            " [ 0.23714534 -0.04207009]\n",
            " [ 0.4661507  -0.44545674]\n",
            " [ 1.18112069 -0.73985214]\n",
            " [-2.68409198  0.39131211]\n",
            " [ 0.77902957  0.35273667]\n",
            " [-0.62687568 -1.24252378]\n",
            " [ 0.4002897  -1.1468752 ]\n",
            " [-2.74777132  0.18799286]\n",
            " [ 0.76934268 -0.00681013]\n",
            " [ 1.29400249 -0.53368818]\n",
            " [ 2.19203378  0.23333371]\n",
            " [ 2.15289712  0.37543657]\n",
            " [ 2.02115241  0.19661737]\n",
            " [-2.98727145  0.09433863]\n",
            " [ 1.6605249  -0.48379664]\n",
            " [ 1.53961136  0.28482622]\n",
            " [ 1.16940388 -0.07744327]\n",
            " [-2.33227593  0.46801923]\n",
            " [-2.47760957 -0.01376147]\n",
            " [ 1.98578086  0.41111716]\n",
            " [ 0.39020118 -0.06780506]\n",
            " [ 2.81132136  0.3711129 ]\n",
            " [ 0.92321892  0.24662211]\n",
            " [-2.83518544 -0.22325443]\n",
            " [ 0.59392583  0.17160193]\n",
            " [-0.30946133 -0.65945876]\n",
            " [-2.76102385  0.33543256]\n",
            " [ 2.79344079  0.83198889]\n",
            " [ 0.17801399 -0.31884461]\n",
            " [-2.8508168   0.35406661]\n",
            " [ 2.26666686  0.47911357]]\n",
            "classifcation report : \n",
            "              precision    recall  f1-score   support\n",
            "\n",
            "           0       1.00      1.00      1.00        22\n",
            "           1       0.77      0.89      0.83        19\n",
            "           2       0.88      0.74      0.80        19\n",
            "\n",
            "    accuracy                           0.88        60\n",
            "   macro avg       0.88      0.88      0.88        60\n",
            "weighted avg       0.89      0.88      0.88        60\n",
            "\n",
            "[[22  0  0]\n",
            " [ 0 17  2]\n",
            " [ 0  5 14]]\n",
            "after pca : \n",
            "gnb_accuracy :  0.8833333333333333\n"
          ]
        }
      ]
    },
    {
      "cell_type": "markdown",
      "source": [
        "# 4. Replace Naive Bayes Classifier with Decision Tree Classifier and then Support Vector Machine and compare performance of all three of them."
      ],
      "metadata": {
        "id": "KKExKP1LSYhF"
      }
    },
    {
      "cell_type": "code",
      "source": [
        "from sklearn.decomposition import PCA\n",
        "from sklearn.datasets import load_iris\n",
        "from sklearn.model_selection import train_test_split\n",
        "from sklearn.naive_bayes import GaussianNB\n",
        "from sklearn.metrics import accuracy_score\n",
        "from sklearn.svm import SVC\n",
        "from sklearn.tree import DecisionTreeClassifier\n",
        "from sklearn.pipeline import Pipeline\n",
        "from sklearn.preprocessing import StandardScaler\n",
        "\n",
        "df=load_iris()\n",
        "X=df.data\n",
        "y=df.target\n",
        "\n",
        "\n",
        "\n",
        "def gnb_classify(X_train,X_test,y_train,y_test):\n",
        "  gnb=GaussianNB()\n",
        "  gnb.fit(X_train,y_train)\n",
        "  gnb_pred=gnb.predict(X_test)\n",
        "  # print(gnb_pred)\n",
        "  return accuracy_score(y_test,gnb_pred)\n",
        "  pass\n",
        "def dt_classify(X_train,X_test,y_train,y_test):\n",
        "  dt=DecisionTreeClassifier()\n",
        "  dt.fit(X_train,y_train)\n",
        "  dt_pred=dt.predict(X_test)\n",
        "  return accuracy_score(y_test,dt_pred)\n",
        "  pass\n",
        "def svm_classify(X_train,X_test,y_train,y_test):\n",
        "  svm=SVC()\n",
        "  svm.fit(X_train,y_train)\n",
        "  svm_pred=svm.predict(X_test)\n",
        "  return accuracy_score(y_test,svm_pred)\n",
        "  pass\n",
        "\n",
        "def pipe_classify(X_train,X_test,y_train,y_test,models):\n",
        "  pipe_model=Pipeline(models)\n",
        "  pipe_model.fit(X_train,y_train)\n",
        "  pipe_pred=pipe_model.predict(X_test)\n",
        "  return accuracy_score(y_test,pipe_pred)\n",
        "  pass\n",
        "\n",
        "\n",
        "X_train,X_test,y_train,y_test=train_test_split(X,y,test_size=0.3,random_state=155)\n",
        "\n",
        "print(\"before pca : \")\n",
        "\n",
        "gnb_accuracy=gnb_classify(X_train,X_test,y_train,y_test)\n",
        "dt_accuracy=dt_classify(X_train,X_test,y_train,y_test)\n",
        "svm_accuracy=svm_classify(X_train,X_test,y_train,y_test)\n",
        "\n",
        "print(\"gnb_accuracy : \",gnb_accuracy)\n",
        "print(\"dt_accuracy : \",dt_accuracy)\n",
        "print(\"svm_accuracy : \",svm_accuracy)\n",
        "\n",
        "pca=PCA(n_components=2)\n",
        "pca.fit(X[:,0:2])\n",
        "X_train=pca.transform(X_train[:,0:2])\n",
        "X_test=pca.transform(X_test[:,0:2])\n",
        "\n",
        "gnb_accuracy=gnb_classify(X_train,X_test,y_train,y_test)\n",
        "dt_accuracy=dt_classify(X_train,X_test,y_train,y_test)\n",
        "svm_accuracy=svm_classify(X_train,X_test,y_train,y_test)\n",
        "\n",
        "print(\"after pca : \")\n",
        "\n",
        "print(\"gnb_accuracy : \",gnb_accuracy)\n",
        "print(\"dt_accuracy : \",dt_accuracy)\n",
        "print(\"svm_accuracy : \",svm_accuracy)\n",
        "\n",
        "\n",
        "\n",
        "\n"
      ],
      "metadata": {
        "colab": {
          "base_uri": "https://localhost:8080/"
        },
        "id": "MRj4ZI_CSc-O",
        "outputId": "c96f5132-e533-4098-f532-205ad0d51a47"
      },
      "execution_count": 12,
      "outputs": [
        {
          "output_type": "stream",
          "name": "stdout",
          "text": [
            "before pca : \n",
            "gnb_accuracy :  0.9333333333333333\n",
            "dt_accuracy :  0.9111111111111111\n",
            "svm_accuracy :  0.9333333333333333\n",
            "after pca : \n",
            "gnb_accuracy :  0.7555555555555555\n",
            "dt_accuracy :  0.6444444444444445\n",
            "svm_accuracy :  0.7333333333333333\n"
          ]
        }
      ]
    }
  ]
}