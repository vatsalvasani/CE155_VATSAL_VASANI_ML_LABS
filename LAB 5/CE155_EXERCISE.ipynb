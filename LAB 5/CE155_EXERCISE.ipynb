{
  "nbformat": 4,
  "nbformat_minor": 0,
  "metadata": {
    "colab": {
      "provenance": [],
      "authorship_tag": "ABX9TyNOTBEci6YXtRhXlu47ZT6I",
      "include_colab_link": true
    },
    "kernelspec": {
      "name": "python3",
      "display_name": "Python 3"
    },
    "language_info": {
      "name": "python"
    }
  },
  "cells": [
    {
      "cell_type": "markdown",
      "metadata": {
        "id": "view-in-github",
        "colab_type": "text"
      },
      "source": [
        "<a href=\"https://colab.research.google.com/github/vatsalvasani/CE155_ML/blob/main/LAB%205/CE155_EXERCISE_ipynb_.ipynb\" target=\"_parent\"><img src=\"https://colab.research.google.com/assets/colab-badge.svg\" alt=\"Open In Colab\"/></a>"
      ]
    },
    {
      "cell_type": "markdown",
      "source": [
        "# **LAB 05**\n",
        "## EXERCISE"
      ],
      "metadata": {
        "id": "pku1c5CGrHSk"
      }
    },
    {
      "cell_type": "markdown",
      "source": [
        "## **Task 1: Try the algo on Same Weather dataset - LabelEncoding of features:and Train test Division 95%-5%**"
      ],
      "metadata": {
        "id": "V1t6gmzurRNX"
      }
    },
    {
      "cell_type": "code",
      "execution_count": 1,
      "metadata": {
        "colab": {
          "base_uri": "https://localhost:8080/",
          "height": 283
        },
        "id": "5HVOME3Xq2zJ",
        "outputId": "6036ce34-9261-4cb6-f703-3ed43753797b"
      },
      "outputs": [
        {
          "output_type": "stream",
          "name": "stdout",
          "text": [
            "test_pred :  [1]\n",
            "test_output :  [1]\n"
          ]
        },
        {
          "output_type": "display_data",
          "data": {
            "text/plain": [
              "<Figure size 432x288 with 1 Axes>"
            ],
            "image/png": "[encoded data removed]"
          },
          "metadata": {
            "needs_background": "light"
          }
        }
      ],
      "source": [
        "outlook = ['Rainy', 'Rainy', 'Overcast', 'Sunny', 'Sunny', 'Sunny','Overcast','Rainy', 'Rainy', 'Sunny', 'Rainy','Overcast', 'Overcast','Sunny']\n",
        "temp = ['Hot', 'Hot', 'Hot', 'Mild', 'Cool', 'Cool', 'Cool','Mild', 'Cool', 'Mild', 'Mild', 'Mild', 'Hot', 'Mild']\n",
        "humidity = ['High', 'High', 'High', 'High', 'Normal', 'Normal', 'Normal','High', 'Normal', 'Normal', 'Normal', 'High', 'Normal','High']\n",
        "wind = ['False', 'True', 'False', 'False', 'False', 'True', 'True','False', 'False', 'False', 'True', 'True', 'False', 'True']\n",
        "play = ['No', 'No', 'Yes', 'Yes', 'Yes', 'No', 'Yes', 'No','Yes', 'Yes', 'Yes', 'Yes', 'Yes', 'No']\n",
        "\n",
        "from sklearn import preprocessing\n",
        "\n",
        "prepro=preprocessing\n",
        "\n",
        "lb=prepro.LabelEncoder()\n",
        "\n",
        "outlook=lb.fit_transform(outlook)\n",
        "temp=lb.fit_transform(temp)\n",
        "humidity=lb.fit_transform(humidity)\n",
        "wind=lb.fit_transform(wind)\n",
        "play=lb.fit_transform(play)\n",
        "\n",
        "from sklearn import tree\n",
        "from sklearn.tree import DecisionTreeClassifier\n",
        "\n",
        "input=list(zip(outlook,temp,humidity,wind))\n",
        "output=play\n",
        "\n",
        "ri=0\n",
        "for row in input:\n",
        "  input[ri]=list(row)\n",
        "  ri+=1\n",
        "\n",
        "\n",
        "from sklearn.model_selection import train_test_split\n",
        "train_input,test_input,train_output,test_output = train_test_split(input,output,\n",
        "                                   random_state=104, \n",
        "                                   test_size=0.05, \n",
        "                                   shuffle=True)\n",
        "\n",
        "model=DecisionTreeClassifier()\n",
        "model.fit(train_input,train_output)\n",
        "\n",
        "tree.plot_tree(model)\n",
        "\n",
        "test_pred=model.predict(test_input)\n",
        "print(\"test_pred : \",test_pred)\n",
        "print(\"test_output : \",test_output)\n",
        "\n"
      ]
    },
    {
      "cell_type": "markdown",
      "source": [
        "## **Task 2: Apply algorithm on wine dataset - LabelEncoding of features: and Train test Division 66%-34%**"
      ],
      "metadata": {
        "id": "NArKk3OnryLZ"
      }
    },
    {
      "cell_type": "code",
      "source": [
        "from sklearn.datasets import load_wine\n",
        "wine= load_wine()\n",
        "input=wine.data\n",
        "output=wine.target\n",
        "\n",
        "from sklearn import tree\n",
        "from sklearn.tree import DecisionTreeClassifier\n",
        "from sklearn.metrics import confusion_matrix\n",
        "from sklearn.model_selection import train_test_split\n",
        "train_input,test_input,train_output,test_output = train_test_split(input,output,\n",
        "                                   random_state=104, \n",
        "                                   test_size=0.66, \n",
        "                                   shuffle=True)\n",
        "\n",
        "\n",
        "model=DecisionTreeClassifier()\n",
        "model.fit(train_input,train_output)\n",
        "\n",
        "test_pred=model.predict(test_input)\n",
        "\n",
        "cmat=confusion_matrix(test_pred,test_output)\n",
        "\n",
        "truth=sum(cmat[i][i] for i in range(len(cmat)))\n",
        "total=0\n",
        "for row in cmat:\n",
        "  for elem in row:\n",
        "    total+=elem\n",
        "accuracy=truth/total\n",
        "print(\"accuracy : \",accuracy)"
      ],
      "metadata": {
        "colab": {
          "base_uri": "https://localhost:8080/"
        },
        "id": "t09tUfYKrviK",
        "outputId": "81d754b5-70c1-495e-cc41-797eb30e121a"
      },
      "execution_count": 5,
      "outputs": [
        {
          "output_type": "stream",
          "name": "stdout",
          "text": [
            "accuracy :  0.8813559322033898\n"
          ]
        }
      ]
    }
  ]
}
