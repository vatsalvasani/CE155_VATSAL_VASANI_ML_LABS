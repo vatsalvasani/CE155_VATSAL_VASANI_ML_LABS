{
  "nbformat": 4,
  "nbformat_minor": 0,
  "metadata": {
    "colab": {
      "provenance": [],
      "authorship_tag": "ABX9TyOItjqjZR05avmsWL8Pl0Bv",
      "include_colab_link": true
    },
    "kernelspec": {
      "name": "python3",
      "display_name": "Python 3"
    },
    "language_info": {
      "name": "python"
    }
  },
  "cells": [
    {
      "cell_type": "markdown",
      "metadata": {
        "id": "view-in-github",
        "colab_type": "text"
      },
      "source": [
        "<a href=\"https://colab.research.google.com/github/vatsalvasani/CE155_ML/blob/main/LAB%204/CE155_Exercise_1.ipynb\" target=\"_parent\"><img src=\"https://colab.research.google.com/assets/colab-badge.svg\" alt=\"Open In Colab\"/></a>"
      ]
    },
    {
      "cell_type": "markdown",
      "source": [
        "# **LAB 04**\n",
        "## EXERCISE 1"
      ],
      "metadata": {
        "id": "7xi8C2JgjHj1"
      }
    },
    {
      "cell_type": "markdown",
      "source": [
        "1) Input (temp, rainfall, humidity)"
      ],
      "metadata": {
        "id": "_vbNqMutjh-4"
      }
    },
    {
      "cell_type": "code",
      "execution_count": null,
      "metadata": {
        "id": "ePWe3FB-wK6t"
      },
      "outputs": [],
      "source": [
        "import numpy as np\n",
        "import torch\n",
        "inputs = np.array([[73, 67, 43], \n",
        "                   [91, 88, 64], \n",
        "                   [87, 134, 58], \n",
        "                   [102, 43, 37], \n",
        "                   [69, 96, 70]], dtype='float32')"
      ]
    },
    {
      "cell_type": "markdown",
      "source": [
        "2) Target (apples)"
      ],
      "metadata": {
        "id": "2Hlf4oyajvtR"
      }
    },
    {
      "cell_type": "code",
      "source": [
        "targets = np.array([[56], \n",
        "                    [81], \n",
        "                    [119], \n",
        "                    [22], \n",
        "                    [103]], dtype='float32')"
      ],
      "metadata": {
        "id": "sz8oymbNw27j"
      },
      "execution_count": null,
      "outputs": []
    },
    {
      "cell_type": "markdown",
      "source": [
        "3) Convert inputs and targets to tensors"
      ],
      "metadata": {
        "id": "Fy3725bqkADB"
      }
    },
    {
      "cell_type": "code",
      "source": [
        "inputs = torch.from_numpy(inputs)\n",
        "targets = torch.from_numpy(targets)\n",
        "print(inputs)\n",
        "print(targets)"
      ],
      "metadata": {
        "colab": {
          "base_uri": "https://localhost:8080/"
        },
        "id": "D3-23nRrxQtU",
        "outputId": "96c9207e-7858-462a-d447-8b3cb7671473"
      },
      "execution_count": null,
      "outputs": [
        {
          "output_type": "stream",
          "name": "stdout",
          "text": [
            "tensor([[ 73.,  67.,  43.],\n",
            "        [ 91.,  88.,  64.],\n",
            "        [ 87., 134.,  58.],\n",
            "        [102.,  43.,  37.],\n",
            "        [ 69.,  96.,  70.]])\n",
            "tensor([[ 56.],\n",
            "        [ 81.],\n",
            "        [119.],\n",
            "        [ 22.],\n",
            "        [103.]])\n"
          ]
        }
      ]
    },
    {
      "cell_type": "markdown",
      "source": [
        "4) Weights and biases"
      ],
      "metadata": {
        "id": "MQa47cQskDv5"
      }
    },
    {
      "cell_type": "code",
      "source": [
        "w = torch.randn(3, 1, requires_grad=True)\n",
        "b = torch.randn(1, requires_grad=True)\n",
        "print(w)\n",
        "print(b)"
      ],
      "metadata": {
        "colab": {
          "base_uri": "https://localhost:8080/"
        },
        "id": "xaAP-owRxUOb",
        "outputId": "c0c17769-3c26-440b-e640-37f5b1bbfa26"
      },
      "execution_count": null,
      "outputs": [
        {
          "output_type": "stream",
          "name": "stdout",
          "text": [
            "tensor([[ 0.1796],\n",
            "        [-1.7677],\n",
            "        [-1.2212]], requires_grad=True)\n",
            "tensor([-1.6109], requires_grad=True)\n"
          ]
        }
      ]
    },
    {
      "cell_type": "markdown",
      "source": [
        "5) Define The Model"
      ],
      "metadata": {
        "id": "SLFgYh8wki5L"
      }
    },
    {
      "cell_type": "code",
      "source": [
        "def model(x):\n",
        "    return x @ w + b"
      ],
      "metadata": {
        "id": "N6IdvtubxUUq"
      },
      "execution_count": null,
      "outputs": []
    },
    {
      "cell_type": "markdown",
      "source": [
        "6) Generate predictions"
      ],
      "metadata": {
        "id": "x5TPTXMXk7f3"
      }
    },
    {
      "cell_type": "code",
      "source": [
        "preds = model(inputs)\n",
        "print(preds)"
      ],
      "metadata": {
        "colab": {
          "base_uri": "https://localhost:8080/"
        },
        "id": "2B6jZvWWxdPU",
        "outputId": "343328ee-7332-4844-e8a3-2a9eadc7ce8c"
      },
      "execution_count": null,
      "outputs": [
        {
          "output_type": "stream",
          "name": "stdout",
          "text": [
            "tensor([[-159.4425],\n",
            "        [-218.9748],\n",
            "        [-293.6802],\n",
            "        [-104.4817],\n",
            "        [-244.3952]], grad_fn=<AddBackward0>)\n"
          ]
        }
      ]
    },
    {
      "cell_type": "markdown",
      "source": [
        "7) Compare With Targets"
      ],
      "metadata": {
        "id": "pQZkJJfck_32"
      }
    },
    {
      "cell_type": "code",
      "source": [
        "print(targets)"
      ],
      "metadata": {
        "colab": {
          "base_uri": "https://localhost:8080/"
        },
        "id": "FTp2QNU3xgwr",
        "outputId": "7a716d97-cf65-48a4-cc5e-e4fff4a3c8ef"
      },
      "execution_count": null,
      "outputs": [
        {
          "output_type": "stream",
          "name": "stdout",
          "text": [
            "tensor([[ 56.],\n",
            "        [ 81.],\n",
            "        [119.],\n",
            "        [ 22.],\n",
            "        [103.]])\n"
          ]
        }
      ]
    },
    {
      "cell_type": "markdown",
      "source": [
        "8) MSE Loss"
      ],
      "metadata": {
        "id": "yZC254fRlHEO"
      }
    },
    {
      "cell_type": "code",
      "source": [
        "def mse(t1, t2):\n",
        "    diff = t1 - t2\n",
        "    return torch.sum(diff * diff) / diff.numel()"
      ],
      "metadata": {
        "id": "fGAMOpkCxgx0"
      },
      "execution_count": null,
      "outputs": []
    },
    {
      "cell_type": "code",
      "source": [
        "loss = mse(preds, targets)\n",
        "print(loss)"
      ],
      "metadata": {
        "colab": {
          "base_uri": "https://localhost:8080/"
        },
        "id": "1YWksJv9xo_L",
        "outputId": "e2012a45-0bd3-4acb-a3d2-585f25144696"
      },
      "execution_count": null,
      "outputs": [
        {
          "output_type": "stream",
          "name": "stdout",
          "text": [
            "tensor(88677.2656, grad_fn=<DivBackward0>)\n"
          ]
        }
      ]
    },
    {
      "cell_type": "code",
      "source": [
        "loss.backward()"
      ],
      "metadata": {
        "id": "ALklOgsC7H_a"
      },
      "execution_count": null,
      "outputs": []
    },
    {
      "cell_type": "markdown",
      "source": [
        "9) Compute Grediants"
      ],
      "metadata": {
        "id": "EgG9JIiflMr4"
      }
    },
    {
      "cell_type": "code",
      "source": [
        "print(w)\n",
        "print(w.grad)"
      ],
      "metadata": {
        "colab": {
          "base_uri": "https://localhost:8080/"
        },
        "id": "By1HC95yx2Mb",
        "outputId": "d254f242-dcdc-42ca-a95c-6f685fa2599a"
      },
      "execution_count": null,
      "outputs": [
        {
          "output_type": "stream",
          "name": "stdout",
          "text": [
            "tensor([[ 0.1796],\n",
            "        [-1.7677],\n",
            "        [-1.2212]], requires_grad=True)\n",
            "tensor([[-46319.8320],\n",
            "        [-53968.0859],\n",
            "        [-32558.1387]])\n"
          ]
        }
      ]
    },
    {
      "cell_type": "code",
      "source": [
        "preds = model(inputs)\n",
        "print(preds)"
      ],
      "metadata": {
        "colab": {
          "base_uri": "https://localhost:8080/"
        },
        "id": "tApaIla5x_Vc",
        "outputId": "5dbfd883-350d-4bed-c03d-62a3e19d400e"
      },
      "execution_count": null,
      "outputs": [
        {
          "output_type": "stream",
          "name": "stdout",
          "text": [
            "tensor([[-159.4425],\n",
            "        [-218.9748],\n",
            "        [-293.6802],\n",
            "        [-104.4817],\n",
            "        [-244.3952]], grad_fn=<AddBackward0>)\n"
          ]
        }
      ]
    },
    {
      "cell_type": "code",
      "source": [
        "loss = mse(preds, targets)\n",
        "print(loss)"
      ],
      "metadata": {
        "colab": {
          "base_uri": "https://localhost:8080/"
        },
        "id": "0NZ7rkPVyB2j",
        "outputId": "dd0c7b79-1c43-46fc-c576-3c8bbf8cc57b"
      },
      "execution_count": null,
      "outputs": [
        {
          "output_type": "stream",
          "name": "stdout",
          "text": [
            "tensor(88677.2656, grad_fn=<DivBackward0>)\n"
          ]
        }
      ]
    },
    {
      "cell_type": "code",
      "source": [
        "loss.backward(retain_graph=True)\n",
        "print(w.grad)\n",
        "print(b.grad)"
      ],
      "metadata": {
        "colab": {
          "base_uri": "https://localhost:8080/"
        },
        "id": "_1rg_Jei68LZ",
        "outputId": "03f04346-c2a7-4938-f7dc-e234f8f3d574"
      },
      "execution_count": null,
      "outputs": [
        {
          "output_type": "stream",
          "name": "stdout",
          "text": [
            "tensor([[-28939.9551],\n",
            "        [-35244.4844],\n",
            "        [-21014.6504]])\n",
            "tensor([-354.5097])\n"
          ]
        }
      ]
    },
    {
      "cell_type": "code",
      "source": [
        "# with torch.no_grad():\n",
        "#     w -= w.grad * 1e-5\n",
        "#     b -= b.grad * 1e-5\n",
        "#     w.grad.zero_()\n",
        "#     b.grad.zero_()"
      ],
      "metadata": {
        "id": "fYNsssK_yR6T"
      },
      "execution_count": null,
      "outputs": []
    },
    {
      "cell_type": "code",
      "source": [
        "# print(w)\n",
        "# # print(b)"
      ],
      "metadata": {
        "colab": {
          "base_uri": "https://localhost:8080/"
        },
        "id": "dhXyAFexyUYC",
        "outputId": "a444aea0-6c1b-45c1-b815-1374cb1b7f4e"
      },
      "execution_count": null,
      "outputs": [
        {
          "output_type": "stream",
          "name": "stdout",
          "text": [
            "tensor([[ 0.6434],\n",
            "        [-1.2273],\n",
            "        [-0.8951]], requires_grad=True)\n",
            "tensor([-1.6053], requires_grad=True)\n"
          ]
        }
      ]
    },
    {
      "cell_type": "code",
      "source": [
        "# preds = model(inputs)\n",
        "# loss = mse(preds, targets)\n",
        "# print(loss)"
      ],
      "metadata": {
        "colab": {
          "base_uri": "https://localhost:8080/"
        },
        "id": "y-Pzf2vsyX-6",
        "outputId": "0d788813-7106-4a10-b85c-ba24debd97f2"
      },
      "execution_count": null,
      "outputs": [
        {
          "output_type": "stream",
          "name": "stdout",
          "text": [
            "tensor(38385.7578, grad_fn=<DivBackward0>)\n"
          ]
        }
      ]
    },
    {
      "cell_type": "code",
      "source": [
        "for i in range(100):\n",
        "    preds = model(inputs)\n",
        "    loss = mse(preds, targets)\n",
        "    loss.backward()\n",
        "    print(loss);\n",
        "    with torch.no_grad():\n",
        "        w -= w.grad * 1e-5\n",
        "        b -= b.grad * 1e-5\n",
        "        w.grad.zero_()\n",
        "        b.grad.zero_()"
      ],
      "metadata": {
        "colab": {
          "base_uri": "https://localhost:8080/"
        },
        "id": "290WHOW3-pTp",
        "outputId": "901694b0-2c75-41c3-d5d0-4594df77f795"
      },
      "execution_count": null,
      "outputs": [
        {
          "output_type": "stream",
          "name": "stdout",
          "text": [
            "tensor(58.0744, grad_fn=<DivBackward0>)\n",
            "tensor(57.4507, grad_fn=<DivBackward0>)\n",
            "tensor(56.8395, grad_fn=<DivBackward0>)\n",
            "tensor(56.2408, grad_fn=<DivBackward0>)\n",
            "tensor(55.6541, grad_fn=<DivBackward0>)\n",
            "tensor(55.0792, grad_fn=<DivBackward0>)\n",
            "tensor(54.5158, grad_fn=<DivBackward0>)\n",
            "tensor(53.9636, grad_fn=<DivBackward0>)\n",
            "tensor(53.4223, grad_fn=<DivBackward0>)\n",
            "tensor(52.8917, grad_fn=<DivBackward0>)\n",
            "tensor(52.3714, grad_fn=<DivBackward0>)\n",
            "tensor(51.8614, grad_fn=<DivBackward0>)\n",
            "tensor(51.3612, grad_fn=<DivBackward0>)\n",
            "tensor(50.8708, grad_fn=<DivBackward0>)\n",
            "tensor(50.3898, grad_fn=<DivBackward0>)\n",
            "tensor(49.9180, grad_fn=<DivBackward0>)\n",
            "tensor(49.4552, grad_fn=<DivBackward0>)\n",
            "tensor(49.0012, grad_fn=<DivBackward0>)\n",
            "tensor(48.5556, grad_fn=<DivBackward0>)\n",
            "tensor(48.1186, grad_fn=<DivBackward0>)\n",
            "tensor(47.6897, grad_fn=<DivBackward0>)\n",
            "tensor(47.2687, grad_fn=<DivBackward0>)\n",
            "tensor(46.8556, grad_fn=<DivBackward0>)\n",
            "tensor(46.4500, grad_fn=<DivBackward0>)\n",
            "tensor(46.0518, grad_fn=<DivBackward0>)\n",
            "tensor(45.6609, grad_fn=<DivBackward0>)\n",
            "tensor(45.2769, grad_fn=<DivBackward0>)\n",
            "tensor(44.9000, grad_fn=<DivBackward0>)\n",
            "tensor(44.5298, grad_fn=<DivBackward0>)\n",
            "tensor(44.1661, grad_fn=<DivBackward0>)\n",
            "tensor(43.8089, grad_fn=<DivBackward0>)\n",
            "tensor(43.4579, grad_fn=<DivBackward0>)\n",
            "tensor(43.1131, grad_fn=<DivBackward0>)\n",
            "tensor(42.7742, grad_fn=<DivBackward0>)\n",
            "tensor(42.4412, grad_fn=<DivBackward0>)\n",
            "tensor(42.1138, grad_fn=<DivBackward0>)\n",
            "tensor(41.7921, grad_fn=<DivBackward0>)\n",
            "tensor(41.4757, grad_fn=<DivBackward0>)\n",
            "tensor(41.1647, grad_fn=<DivBackward0>)\n",
            "tensor(40.8589, grad_fn=<DivBackward0>)\n",
            "tensor(40.5581, grad_fn=<DivBackward0>)\n",
            "tensor(40.2622, grad_fn=<DivBackward0>)\n",
            "tensor(39.9713, grad_fn=<DivBackward0>)\n",
            "tensor(39.6850, grad_fn=<DivBackward0>)\n",
            "tensor(39.4033, grad_fn=<DivBackward0>)\n",
            "tensor(39.1262, grad_fn=<DivBackward0>)\n",
            "tensor(38.8535, grad_fn=<DivBackward0>)\n",
            "tensor(38.5850, grad_fn=<DivBackward0>)\n",
            "tensor(38.3207, grad_fn=<DivBackward0>)\n",
            "tensor(38.0606, grad_fn=<DivBackward0>)\n",
            "tensor(37.8045, grad_fn=<DivBackward0>)\n",
            "tensor(37.5523, grad_fn=<DivBackward0>)\n",
            "tensor(37.3038, grad_fn=<DivBackward0>)\n",
            "tensor(37.0592, grad_fn=<DivBackward0>)\n",
            "tensor(36.8182, grad_fn=<DivBackward0>)\n",
            "tensor(36.5808, grad_fn=<DivBackward0>)\n",
            "tensor(36.3469, grad_fn=<DivBackward0>)\n",
            "tensor(36.1164, grad_fn=<DivBackward0>)\n",
            "tensor(35.8892, grad_fn=<DivBackward0>)\n",
            "tensor(35.6653, grad_fn=<DivBackward0>)\n",
            "tensor(35.4447, grad_fn=<DivBackward0>)\n",
            "tensor(35.2270, grad_fn=<DivBackward0>)\n",
            "tensor(35.0125, grad_fn=<DivBackward0>)\n",
            "tensor(34.8010, grad_fn=<DivBackward0>)\n",
            "tensor(34.5923, grad_fn=<DivBackward0>)\n",
            "tensor(34.3865, grad_fn=<DivBackward0>)\n",
            "tensor(34.1835, grad_fn=<DivBackward0>)\n",
            "tensor(33.9833, grad_fn=<DivBackward0>)\n",
            "tensor(33.7857, grad_fn=<DivBackward0>)\n",
            "tensor(33.5907, grad_fn=<DivBackward0>)\n",
            "tensor(33.3983, grad_fn=<DivBackward0>)\n",
            "tensor(33.2083, grad_fn=<DivBackward0>)\n",
            "tensor(33.0209, grad_fn=<DivBackward0>)\n",
            "tensor(32.8358, grad_fn=<DivBackward0>)\n",
            "tensor(32.6530, grad_fn=<DivBackward0>)\n",
            "tensor(32.4725, grad_fn=<DivBackward0>)\n",
            "tensor(32.2943, grad_fn=<DivBackward0>)\n",
            "tensor(32.1183, grad_fn=<DivBackward0>)\n",
            "tensor(31.9444, grad_fn=<DivBackward0>)\n",
            "tensor(31.7726, grad_fn=<DivBackward0>)\n",
            "tensor(31.6029, grad_fn=<DivBackward0>)\n",
            "tensor(31.4352, grad_fn=<DivBackward0>)\n",
            "tensor(31.2695, grad_fn=<DivBackward0>)\n",
            "tensor(31.1056, grad_fn=<DivBackward0>)\n",
            "tensor(30.9436, grad_fn=<DivBackward0>)\n",
            "tensor(30.7836, grad_fn=<DivBackward0>)\n",
            "tensor(30.6253, grad_fn=<DivBackward0>)\n",
            "tensor(30.4688, grad_fn=<DivBackward0>)\n",
            "tensor(30.3140, grad_fn=<DivBackward0>)\n",
            "tensor(30.1610, grad_fn=<DivBackward0>)\n",
            "tensor(30.0096, grad_fn=<DivBackward0>)\n",
            "tensor(29.8599, grad_fn=<DivBackward0>)\n",
            "tensor(29.7117, grad_fn=<DivBackward0>)\n",
            "tensor(29.5651, grad_fn=<DivBackward0>)\n",
            "tensor(29.4201, grad_fn=<DivBackward0>)\n",
            "tensor(29.2765, grad_fn=<DivBackward0>)\n",
            "tensor(29.1344, grad_fn=<DivBackward0>)\n",
            "tensor(28.9939, grad_fn=<DivBackward0>)\n",
            "tensor(28.8546, grad_fn=<DivBackward0>)\n",
            "tensor(28.7168, grad_fn=<DivBackward0>)\n"
          ]
        }
      ]
    },
    {
      "cell_type": "code",
      "source": [
        "preds = model(inputs)\n",
        "loss = mse(preds, targets)\n",
        "print(loss)"
      ],
      "metadata": {
        "colab": {
          "base_uri": "https://localhost:8080/"
        },
        "id": "z0Imqks2-sJH",
        "outputId": "7e284ff1-d79b-4852-8249-50eb14f505b5"
      },
      "execution_count": null,
      "outputs": [
        {
          "output_type": "stream",
          "name": "stdout",
          "text": [
            "tensor(301.3375, grad_fn=<DivBackward0>)\n"
          ]
        }
      ]
    },
    {
      "cell_type": "code",
      "source": [
        "preds"
      ],
      "metadata": {
        "colab": {
          "base_uri": "https://localhost:8080/"
        },
        "id": "qhoPSGgv-y7X",
        "outputId": "60808834-ad25-403d-ebc7-fc03c7449746"
      },
      "execution_count": null,
      "outputs": [
        {
          "output_type": "execute_result",
          "data": {
            "text/plain": [
              "tensor([[ 62.4229],\n",
              "        [ 80.9189],\n",
              "        [113.1646],\n",
              "        [ 52.7116],\n",
              "        [ 80.9054]], grad_fn=<AddBackward0>)"
            ]
          },
          "metadata": {},
          "execution_count": 162
        }
      ]
    },
    {
      "cell_type": "code",
      "source": [
        "targets\n"
      ],
      "metadata": {
        "colab": {
          "base_uri": "https://localhost:8080/"
        },
        "id": "6vPel3tW-2c2",
        "outputId": "a2a5aff5-5552-4efb-9432-67a0200291c6"
      },
      "execution_count": null,
      "outputs": [
        {
          "output_type": "execute_result",
          "data": {
            "text/plain": [
              "tensor([[ 56.],\n",
              "        [ 81.],\n",
              "        [119.],\n",
              "        [ 22.],\n",
              "        [103.]])"
            ]
          },
          "metadata": {},
          "execution_count": 163
        }
      ]
    }
  ]
}
