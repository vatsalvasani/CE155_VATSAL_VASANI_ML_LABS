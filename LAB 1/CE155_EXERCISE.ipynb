{
  "nbformat": 4,
  "nbformat_minor": 0,
  "metadata": {
    "colab": {
      "provenance": [],
      "authorship_tag": "ABX9TyPkfQ1iaaH662YddDnrUZ/s",
      "include_colab_link": true
    },
    "kernelspec": {
      "name": "python3",
      "display_name": "Python 3"
    },
    "language_info": {
      "name": "python"
    }
  },
  "cells": [
    {
      "cell_type": "markdown",
      "metadata": {
        "id": "view-in-github",
        "colab_type": "text"
      },
      "source": [
        "<a href=\"https://colab.research.google.com/github/vatsalvasani/CE155_ML/blob/main/LAB%201/CE155_EXERCISE.ipynb\" target=\"_parent\"><img src=\"https://colab.research.google.com/assets/colab-badge.svg\" alt=\"Open In Colab\"/></a>"
      ]
    },
    {
      "cell_type": "markdown",
      "source": [
        "#***Excercise1***\n",
        "#1) Create Two numpy array of size 4 X 5 and 5 X 4.\n",
        "#2) Randomly Initalize that array\n",
        "#3) Perform matrix multiplication\n",
        "\n"
      ],
      "metadata": {
        "id": "WhPH-13FabxU"
      }
    },
    {
      "cell_type": "code",
      "execution_count": null,
      "metadata": {
        "colab": {
          "base_uri": "https://localhost:8080/"
        },
        "id": "tXuZ27ue5cLJ",
        "outputId": "1a5e1003-4f50-48e2-8f49-57627da89ed7"
      },
      "outputs": [
        {
          "output_type": "stream",
          "name": "stdout",
          "text": [
            "[[175 190 205 220]\n",
            " [355 390 425 460]\n",
            " [535 590 645 700]\n",
            " [715 790 865 940]]\n"
          ]
        }
      ],
      "source": [
        "\n",
        "import numpy as np\n",
        "nparray = np.array([[1, 2,3,4,5], [5,6,7,8,9], [9,10,11,12,13],[13,14,15,16,17]])\n",
        "nparray1 = np.array([[1, 2,3,4], [5,6,7,8], [9,10,11,12],[13,14,15,16],[17,18,19,20]])\n",
        "print(nparray @ nparray1)"
      ]
    },
    {
      "cell_type": "markdown",
      "source": [
        "#4) Perform elementwise matrix multiplication."
      ],
      "metadata": {
        "id": "J1-tYvDjaXys"
      }
    },
    {
      "cell_type": "code",
      "source": [
        "\n",
        "nparray.dot(nparray1)\n"
      ],
      "metadata": {
        "colab": {
          "base_uri": "https://localhost:8080/"
        },
        "id": "LPjIz2LR6Z0M",
        "outputId": "96a03ea8-1cd0-425a-86d2-3eecdcd20315"
      },
      "execution_count": null,
      "outputs": [
        {
          "output_type": "execute_result",
          "data": {
            "text/plain": [
              "array([[175, 190, 205, 220],\n",
              "       [355, 390, 425, 460],\n",
              "       [535, 590, 645, 700],\n",
              "       [715, 790, 865, 940]])"
            ]
          },
          "metadata": {},
          "execution_count": 7
        }
      ]
    },
    {
      "cell_type": "markdown",
      "source": [
        "#5) Find mean, median of the first matrix."
      ],
      "metadata": {
        "id": "-4_qTfcHbmm8"
      }
    },
    {
      "cell_type": "code",
      "source": [
        "\n",
        "#Find A Mean Using mean()\n",
        "#Find Median Using median()\n",
        "print(np.mean(nparray))\n",
        "print(np.median(nparray))"
      ],
      "metadata": {
        "colab": {
          "base_uri": "https://localhost:8080/"
        },
        "id": "XUIBY7QQ7hrb",
        "outputId": "abdda166-9347-40d6-abbc-a1ec16f3c394"
      },
      "execution_count": null,
      "outputs": [
        {
          "output_type": "stream",
          "name": "stdout",
          "text": [
            "9.0\n",
            "9.0\n"
          ]
        }
      ]
    },
    {
      "cell_type": "markdown",
      "source": [
        "#6) Get the transpose of that Matrix that you created. Create a square matrix and find its determinant.\n"
      ],
      "metadata": {
        "id": "SEqXLmi1br87"
      }
    },
    {
      "cell_type": "code",
      "source": [
        "print(nparray.T)\n",
        "print(nparray1.T)\n",
        "\n",
        "nparray2 = np.array([[5, 2, 5],\n",
        "                    [3, 44, 11],\n",
        "                    [11, 5, 7]])\n",
        "  \n",
        "# Matrix\n",
        "print(\"Numpy Matrix is:\")\n",
        "print(nparray2)\n",
        "  \n",
        "# calculate the determinant of matrix\n",
        "det = np.linalg.det(nparray2)\n",
        "  \n",
        "print(\"\\nDeterminant :\")\n",
        "print(int(det))"
      ],
      "metadata": {
        "colab": {
          "base_uri": "https://localhost:8080/"
        },
        "id": "wD41kwCs8QwM",
        "outputId": "e57a6d19-9d90-4c5a-85cc-88e15ea229e2"
      },
      "execution_count": null,
      "outputs": [
        {
          "output_type": "stream",
          "name": "stdout",
          "text": [
            "[[ 1  5  9 13]\n",
            " [ 2  6 10 14]\n",
            " [ 3  7 11 15]\n",
            " [ 4  8 12 16]\n",
            " [ 5  9 13 17]]\n",
            "[[ 1  5  9 13 17]\n",
            " [ 2  6 10 14 18]\n",
            " [ 3  7 11 15 19]\n",
            " [ 4  8 12 16 20]]\n",
            "Numpy Matrix is:\n",
            "[[ 5  2  5]\n",
            " [ 3 44 11]\n",
            " [11  5  7]]\n",
            "\n",
            "Determinant :\n",
            "-880\n"
          ]
        }
      ]
    },
    {
      "cell_type": "markdown",
      "source": [
        "#7) Obtain each row in the second column of the first array.\n"
      ],
      "metadata": {
        "id": "jUYhkhuebv6w"
      }
    },
    {
      "cell_type": "code",
      "source": [
        "print(nparray[:, 1:2])"
      ],
      "metadata": {
        "colab": {
          "base_uri": "https://localhost:8080/"
        },
        "id": "wk0rN3OS8Zy0",
        "outputId": "6bac43f5-bd8f-4093-e056-3d8634ce1971"
      },
      "execution_count": null,
      "outputs": [
        {
          "output_type": "stream",
          "name": "stdout",
          "text": [
            "[[ 2]\n",
            " [ 6]\n",
            " [10]\n",
            " [14]]\n"
          ]
        }
      ]
    },
    {
      "cell_type": "markdown",
      "source": [
        "#8) Convert Numeric entries(columns) of mtcars.csv to Mean Centered Version\n"
      ],
      "metadata": {
        "id": "BEhePpmYcDHN"
      }
    },
    {
      "cell_type": "code",
      "source": [
        "import random as rand\n",
        "import numpy as np\n",
        "import pandas as pd\n",
        "from google.colab import drive\n",
        "drive.mount(\"/content/drive\")\n",
        "data = np.loadtxt(\"/content/drive/MyDrive/sem 6/ML/LAB 1/mtcars.csv\", delimiter=\",\", dtype=str, usecols=(1, 2, 3, 4, 5, 6, 7, 8, 9, 10))\n",
        "manipulatedData = [[0 for _ in range(len(data[0]))] for _ in range(len(data))]\n",
        "\n",
        "for i in range(1, len(data)):\n",
        "  for j in range(len(data[0])):\n",
        "    manipulatedData[i - 1][j] = float(data[i][j])\n",
        "\n",
        "manipulatedData = np.array(manipulatedData)\n",
        "\n",
        "# Mean Centered by Row\n",
        "print(\"\\n\\nMean Centered by Row:\\n\")\n",
        "centerByRow = manipulatedData - np.mean(manipulatedData, axis=0)\n",
        "print(centerByRow)\n",
        "\n",
        "# Mean Centered by Column\n",
        "print(\"\\n\\nMean Centered by Column:\\n\")\n",
        "centerByColumn = manipulatedData.T - np.mean(manipulatedData, axis=1)\n",
        "centerByColumn = centerByColumn.T\n",
        "\n",
        "print(centerByColumn)"
      ],
      "metadata": {
        "id": "WxZlMUwO-bNN",
        "colab": {
          "base_uri": "https://localhost:8080/"
        },
        "outputId": "d9c22711-b0ca-45a6-9466-07e6fe6a2052"
      },
      "execution_count": null,
      "outputs": [
        {
          "output_type": "stream",
          "name": "stdout",
          "text": [
            "Drive already mounted at /content/drive; to attempt to forcibly remount, call drive.mount(\"/content/drive\", force_remount=True).\n",
            "\n",
            "\n",
            "Mean Centered by Row:\n",
            "\n",
            "[[ 1.51818182e+00  0.00000000e+00 -6.37303030e+01 -3.22424242e+01\n",
            "   4.12424242e-01 -4.99757576e-01 -8.47878788e-01 -4.24242424e-01\n",
            "   6.06060606e-01  4.24242424e-01]\n",
            " [ 1.51818182e+00  0.00000000e+00 -6.37303030e+01 -3.22424242e+01\n",
            "   4.12424242e-01 -2.44757576e-01 -2.87878788e-01 -4.24242424e-01\n",
            "   6.06060606e-01  4.24242424e-01]\n",
            " [ 3.31818182e+00 -2.00000000e+00 -1.15730303e+02 -4.92424242e+01\n",
            "   3.62424242e-01 -7.99757576e-01  1.30212121e+00  5.75757576e-01\n",
            "   6.06060606e-01  4.24242424e-01]\n",
            " [ 1.91818182e+00  0.00000000e+00  3.42696970e+01 -3.22424242e+01\n",
            "  -4.07575758e-01  9.52424242e-02  2.13212121e+00  5.75757576e-01\n",
            "  -3.93939394e-01 -5.75757576e-01]\n",
            " [-7.81818182e-01  2.00000000e+00  1.36269697e+02  3.27575758e+01\n",
            "  -3.37575758e-01  3.20242424e-01 -2.87878788e-01 -4.24242424e-01\n",
            "  -3.93939394e-01 -5.75757576e-01]\n",
            " [-1.38181818e+00  0.00000000e+00  1.26969697e+00 -3.72424242e+01\n",
            "  -7.27575758e-01  3.40242424e-01  2.91212121e+00  5.75757576e-01\n",
            "  -3.93939394e-01 -5.75757576e-01]\n",
            " [-5.18181818e+00  2.00000000e+00  1.36269697e+02  1.02757576e+02\n",
            "  -2.77575758e-01  4.50242424e-01 -1.46787879e+00 -4.24242424e-01\n",
            "  -3.93939394e-01 -5.75757576e-01]\n",
            " [ 4.91818182e+00 -2.00000000e+00 -7.70303030e+01 -8.02424242e+01\n",
            "   2.02424242e-01  7.02424242e-02  2.69212121e+00  5.75757576e-01\n",
            "  -3.93939394e-01  4.24242424e-01]\n",
            " [ 3.31818182e+00 -2.00000000e+00 -8.29303030e+01 -4.72424242e+01\n",
            "   4.32424242e-01  3.02424242e-02  5.59212121e+00  5.75757576e-01\n",
            "  -3.93939394e-01  4.24242424e-01]\n",
            " [-2.81818182e-01  0.00000000e+00 -5.61303030e+01 -1.92424242e+01\n",
            "   4.32424242e-01  3.20242424e-01  9.92121212e-01  5.75757576e-01\n",
            "  -3.93939394e-01  4.24242424e-01]\n",
            " [-1.68181818e+00  0.00000000e+00 -5.61303030e+01 -1.92424242e+01\n",
            "   4.32424242e-01  3.20242424e-01  1.59212121e+00  5.75757576e-01\n",
            "  -3.93939394e-01  4.24242424e-01]\n",
            " [-3.08181818e+00  2.00000000e+00  5.20696970e+01  3.77575758e+01\n",
            "  -4.17575758e-01  9.50242424e-01  9.21212121e-02 -4.24242424e-01\n",
            "  -3.93939394e-01 -5.75757576e-01]\n",
            " [-2.18181818e+00  2.00000000e+00  5.20696970e+01  3.77575758e+01\n",
            "  -4.17575758e-01  6.10242424e-01  2.92121212e-01 -4.24242424e-01\n",
            "  -3.93939394e-01 -5.75757576e-01]\n",
            " [-4.28181818e+00  2.00000000e+00  5.20696970e+01  3.77575758e+01\n",
            "  -4.17575758e-01  6.60242424e-01  6.92121212e-01 -4.24242424e-01\n",
            "  -3.93939394e-01 -5.75757576e-01]\n",
            " [-9.08181818e+00  2.00000000e+00  2.48269697e+02  6.27575758e+01\n",
            "  -5.57575758e-01  2.13024242e+00  6.72121212e-01 -4.24242424e-01\n",
            "  -3.93939394e-01 -5.75757576e-01]\n",
            " [-9.08181818e+00  2.00000000e+00  2.36269697e+02  7.27575758e+01\n",
            "  -4.87575758e-01  2.30424242e+00  5.12121212e-01 -4.24242424e-01\n",
            "  -3.93939394e-01 -5.75757576e-01]\n",
            " [-4.78181818e+00  2.00000000e+00  2.16269697e+02  8.77575758e+01\n",
            "  -2.57575758e-01  2.22524242e+00  1.12121212e-01 -4.24242424e-01\n",
            "  -3.93939394e-01 -5.75757576e-01]\n",
            " [ 1.29181818e+01 -2.00000000e+00 -1.45030303e+02 -7.62424242e+01\n",
            "   5.92424242e-01 -9.19757576e-01  2.16212121e+00  5.75757576e-01\n",
            "   6.06060606e-01  4.24242424e-01]\n",
            " [ 1.09181818e+01 -2.00000000e+00 -1.48030303e+02 -9.02424242e+01\n",
            "   1.44242424e+00 -1.50475758e+00  1.21212121e+00  5.75757576e-01\n",
            "   6.06060606e-01  4.24242424e-01]\n",
            " [ 1.44181818e+01 -2.00000000e+00 -1.52630303e+02 -7.72424242e+01\n",
            "   7.32424242e-01 -1.28475758e+00  2.59212121e+00  5.75757576e-01\n",
            "   6.06060606e-01  4.24242424e-01]\n",
            " [ 2.01818182e+00 -2.00000000e+00 -1.03630303e+02 -4.52424242e+01\n",
            "   2.12424242e-01 -6.54757576e-01  2.70212121e+00  5.75757576e-01\n",
            "  -3.93939394e-01 -5.75757576e-01]\n",
            " [-3.98181818e+00  2.00000000e+00  9.42696970e+01  7.75757576e+00\n",
            "  -7.27575758e-01  4.00242424e-01 -4.37878788e-01 -4.24242424e-01\n",
            "  -3.93939394e-01 -5.75757576e-01]\n",
            " [-4.28181818e+00  2.00000000e+00  8.02696970e+01  7.75757576e+00\n",
            "  -3.37575758e-01  3.15242424e-01 -7.87878788e-03 -4.24242424e-01\n",
            "  -3.93939394e-01 -5.75757576e-01]\n",
            " [-6.18181818e+00  2.00000000e+00  1.26269697e+02  1.02757576e+02\n",
            "   2.42424242e-01  7.20242424e-01 -1.89787879e+00 -4.24242424e-01\n",
            "  -3.93939394e-01 -5.75757576e-01]\n",
            " [-2.81818182e-01  2.00000000e+00  1.76269697e+02  3.27575758e+01\n",
            "  -4.07575758e-01  7.25242424e-01 -2.57878788e-01 -4.24242424e-01\n",
            "  -3.93939394e-01 -5.75757576e-01]\n",
            " [ 7.81818182e+00 -2.00000000e+00 -1.44730303e+02 -7.62424242e+01\n",
            "   5.92424242e-01 -1.18475758e+00  1.59212121e+00  5.75757576e-01\n",
            "   6.06060606e-01  4.24242424e-01]\n",
            " [ 6.51818182e+00 -2.00000000e+00 -1.03430303e+02 -5.12424242e+01\n",
            "   9.42424242e-01 -9.79757576e-01 -6.07878788e-01 -4.24242424e-01\n",
            "   6.06060606e-01  1.42424242e+00]\n",
            " [ 1.09181818e+01 -2.00000000e+00 -1.28630303e+02 -2.92424242e+01\n",
            "   2.82424242e-01 -1.60675758e+00 -4.07878788e-01  5.75757576e-01\n",
            "   6.06060606e-01  1.42424242e+00]\n",
            " [-3.68181818e+00  2.00000000e+00  1.27269697e+02  1.21757576e+02\n",
            "   7.32424242e-01  5.02424242e-02 -2.80787879e+00 -4.24242424e-01\n",
            "   6.06060606e-01  1.42424242e+00]\n",
            " [ 2.18181818e-01  0.00000000e+00 -7.87303030e+01  3.27575758e+01\n",
            "   1.32424242e-01 -3.49757576e-01 -1.80787879e+00 -4.24242424e-01\n",
            "   6.06060606e-01  1.42424242e+00]\n",
            " [-4.48181818e+00  2.00000000e+00  7.72696970e+01  1.92757576e+02\n",
            "   5.24242424e-02  4.50242424e-01 -2.70787879e+00 -4.24242424e-01\n",
            "   6.06060606e-01  1.42424242e+00]\n",
            " [ 1.91818182e+00 -2.00000000e+00 -1.02730303e+02 -3.32424242e+01\n",
            "   6.22424242e-01 -3.39757576e-01  1.29212121e+00  5.75757576e-01\n",
            "   6.06060606e-01  4.24242424e-01]\n",
            " [-1.94818182e+01 -6.00000000e+00 -2.23730303e+02 -1.42242424e+02\n",
            "  -3.48757576e+00 -3.11975758e+00 -1.73078788e+01 -4.24242424e-01\n",
            "  -3.93939394e-01 -3.57575758e+00]]\n",
            "\n",
            "\n",
            "Mean Centered by Column:\n",
            "\n",
            "[[-11.498  -26.498  127.502   77.502  -28.598  -29.878  -16.038  -32.498\n",
            "  -31.498  -28.498 ]\n",
            " [-11.5795 -26.5795 127.4205  77.4205 -28.6795 -29.7045 -15.5595 -32.5795\n",
            "  -31.5795 -28.5795]\n",
            " [ -3.058  -21.858   82.142   67.142  -22.008  -23.538   -7.248  -24.858\n",
            "  -24.858  -21.858 ]\n",
            " [-21.1135 -36.5135 215.4865  67.4865 -39.4335 -39.2985 -23.0735 -41.5135\n",
            "  -42.5135 -39.5135]\n",
            " [-40.131  -50.831  301.169  116.169  -55.681  -55.391  -41.811  -58.831\n",
            "  -58.831  -55.831 ]\n",
            " [-20.354  -32.454  186.546   66.546  -35.694  -34.994  -18.234  -37.454\n",
            "  -38.454  -35.454 ]\n",
            " [-50.992  -57.292  294.708  179.708  -62.082  -61.722  -49.452  -65.292\n",
            "  -65.292  -62.292 ]\n",
            " [ -2.498  -22.898  119.802   35.102  -23.208  -23.708   -6.898  -25.898\n",
            "  -26.898  -22.898 ]\n",
            " [ -6.957  -25.757  111.043   65.243  -25.837  -26.607   -6.857  -28.757\n",
            "  -29.757  -25.757 ]\n",
            " [-15.446  -28.646  132.954   88.354  -30.726  -31.206  -16.346  -33.646\n",
            "  -34.646  -30.646 ]\n",
            " [-16.766  -28.566  133.034   88.434  -30.646  -31.126  -15.666  -33.566\n",
            "  -34.566  -30.566 ]\n",
            " [-34.374  -42.774  225.026  129.226  -47.704  -46.704  -33.374  -50.774\n",
            "  -50.774  -47.774 ]\n",
            " [-33.55   -42.85   224.95   129.15   -47.78   -47.12   -33.25   -50.85\n",
            "  -50.85   -47.85  ]\n",
            " [-35.485  -42.685  225.115  129.315  -47.615  -46.905  -32.685  -50.685\n",
            "  -50.685  -47.685 ]\n",
            " [-62.056  -64.456  399.544  132.544  -69.526  -67.206  -54.476  -72.456\n",
            "  -72.456  -69.456 ]\n",
            " [-61.8644 -64.2644 387.7356 142.7356 -69.2644 -66.8404 -54.4444 -72.2644\n",
            "  -72.2644 -69.2644]\n",
            " [-57.4695 -64.1695 367.8305 157.8305 -68.9395 -66.8245 -54.7495 -72.1695\n",
            "  -72.1695 -69.1695]\n",
            " [ 11.115  -17.285   57.415   44.715  -17.205  -19.085   -1.815  -20.285\n",
            "  -20.285  -17.285 ]\n",
            " [ 11.0835 -15.3165  56.3835  32.6835 -14.3865 -17.7015  -0.7965 -18.3165\n",
            "  -18.3165 -15.3165]\n",
            " [ 13.3045 -16.5955  50.5045  44.4045 -16.3755 -18.7605  -0.6955 -19.5955\n",
            "  -19.5955 -16.5955]\n",
            " [ -5.7775 -23.2775  92.8225  69.7225 -23.5775 -24.8125  -7.2675 -26.2775\n",
            "  -27.2775 -24.2775]\n",
            " [-36.265  -43.765  266.235   98.235  -49.005  -48.245  -34.895  -51.765\n",
            "  -51.765  -48.765 ]\n",
            " [-35.2085 -42.4085 253.5915  99.5915 -47.2585 -46.9735 -33.1085 -50.4085\n",
            "  -50.4085 -47.4085]\n",
            " [-50.928  -56.228  285.772  180.772  -60.498  -60.388  -48.818  -64.228\n",
            "  -64.228  -61.228 ]\n",
            " [-43.7175 -54.9175 337.0825 112.0825 -59.8375 -59.0725 -45.8675 -62.9175\n",
            "  -62.9175 -59.9175]\n",
            " [  6.5785 -16.7215  58.2785  45.2785 -16.6415 -18.7865  -1.8215 -19.7215\n",
            "  -19.7215 -16.7215]\n",
            " [ -1.057  -23.057   93.243   63.943  -22.627  -24.917  -10.357  -27.057\n",
            "  -26.057  -22.057 ]\n",
            " [  3.2317 -23.1683  67.9317  85.8317 -23.3983 -25.6553 -10.2683 -26.1683\n",
            "  -26.1683 -22.1683]\n",
            " [-50.869  -58.669  284.331  197.331  -62.449  -63.499  -52.169  -66.669\n",
            "  -65.669  -61.669 ]\n",
            " [-17.659  -31.359  107.641  137.641  -33.739  -34.589  -21.859  -37.359\n",
            "  -36.359  -32.359 ]\n",
            " [-53.671  -60.671  232.329  266.329  -65.131  -65.101  -54.071  -68.671\n",
            "  -67.671  -63.671 ]\n",
            " [ -7.289  -24.689   92.311   80.311  -24.579  -25.909  -10.089  -27.689\n",
            "  -27.689  -24.689 ]\n",
            " [  0.       0.       0.       0.       0.       0.       0.       0.\n",
            "    0.       0.    ]]\n"
          ]
        }
      ]
    },
    {
      "cell_type": "markdown",
      "source": [
        "# Exercise:\n",
        "## ----> Perform all of the above preprocessing tasks on any other text."
      ],
      "metadata": {
        "id": "_BvW4wE8dnqJ"
      }
    },
    {
      "cell_type": "code",
      "source": [
        "import nltk\n",
        "import matplotlib.pyplot as plt\n",
        "random_text = \"\"\"I As Leader Of Opposition Party Meet President @Draupadi Murmu today in Delhi. #AamAadmiParty #Politics\"\"\"\n",
        "\n",
        "import re\n",
        "import string\n",
        "from nltk.corpus import stopwords\n",
        "from nltk.stem import PorterStemmer\n",
        "from nltk.tokenize import TweetTokenizer\n",
        "\n",
        "remove_link_text = re.sub(r'https?:\\/\\/.*[\\r\\n]*', '', random_text)\n",
        "remove_link_text = re.sub(r'#', '', remove_link_text)\n",
        "print(remove_link_text)\n",
        "\n",
        "print('\\033[92m' + random_text)\n",
        "print('\\033[92m' + remove_link_text)"
      ],
      "metadata": {
        "colab": {
          "base_uri": "https://localhost:8080/"
        },
        "id": "cFDZZxLIeQSN",
        "outputId": "f903268d-38fb-4fb9-9fe9-0167efaead5c"
      },
      "execution_count": null,
      "outputs": [
        {
          "output_type": "stream",
          "name": "stdout",
          "text": [
            "I As Leader Of Opposition Party Meet President @Draupadi Murmu today in Delhi. AamAadmiParty Politics\n",
            "\u001b[92mI As Leader Of Opposition Party Meet President @Draupadi Murmu today in Delhi. #AamAadmiParty #Politics\n",
            "\u001b[92mI As Leader Of Opposition Party Meet President @Draupadi Murmu today in Delhi. AamAadmiParty Politics\n"
          ]
        }
      ]
    },
    {
      "cell_type": "code",
      "source": [
        "from nltk.tokenize import sent_tokenize\n",
        "text=\"\"\"Cake is a form of sweet food made from flour, sugar, and other ingredients, that is usually baked.In their oldest forms, cakes were modifications of bread, but cakes now cover a wide range of preparations that can be simple or elaborate, and that share features with other desserts such as pastries, meringues, custards, and pies.The most commonly used cake ingredients include flour, sugar, eggs, butter or oil or margarine, a liquid, and leavening agents, such as baking soda or baking powder. Common additional ingredients and flavourings include dried, candied, or fresh fruit, nuts, cocoa, and extracts such as vanilla, with numerous substitutions for the primary ingredients.Cakes can also be filled with fruit preserves, nuts or dessert sauces (like pastry cream), iced with buttercream or other icings, and decorated with marzipan, piped borders, or candied fruit.\"\"\"\n",
        "# download punkt\n",
        "nltk.download(\"punkt\")\n",
        "tokenized_text=sent_tokenize(text)\n",
        "print(tokenized_text)"
      ],
      "metadata": {
        "colab": {
          "base_uri": "https://localhost:8080/"
        },
        "id": "gZKiJICSe71p",
        "outputId": "f141142a-fe61-4f4e-cd24-f37691e9c557"
      },
      "execution_count": null,
      "outputs": [
        {
          "output_type": "stream",
          "name": "stderr",
          "text": [
            "[nltk_data] Downloading package punkt to /root/nltk_data...\n",
            "[nltk_data]   Unzipping tokenizers/punkt.zip.\n"
          ]
        },
        {
          "output_type": "stream",
          "name": "stdout",
          "text": [
            "['Cake is a form of sweet food made from flour, sugar, and other ingredients, that is usually baked.In their oldest forms, cakes were modifications of bread, but cakes now cover a wide range of preparations that can be simple or elaborate, and that share features with other desserts such as pastries, meringues, custards, and pies.The most commonly used cake ingredients include flour, sugar, eggs, butter or oil or margarine, a liquid, and leavening agents, such as baking soda or baking powder.', 'Common additional ingredients and flavourings include dried, candied, or fresh fruit, nuts, cocoa, and extracts such as vanilla, with numerous substitutions for the primary ingredients.Cakes can also be filled with fruit preserves, nuts or dessert sauces (like pastry cream), iced with buttercream or other icings, and decorated with marzipan, piped borders, or candied fruit.']\n"
          ]
        }
      ]
    },
    {
      "cell_type": "code",
      "source": [
        "from nltk.tokenize import word_tokenize\n",
        "tokenized_word=word_tokenize(text)\n",
        "print(tokenized_word)"
      ],
      "metadata": {
        "colab": {
          "base_uri": "https://localhost:8080/"
        },
        "id": "s1wyJwzmfHtp",
        "outputId": "22734bf1-7a0d-42fc-9345-83ef95a476c4"
      },
      "execution_count": null,
      "outputs": [
        {
          "output_type": "stream",
          "name": "stdout",
          "text": [
            "['Cake', 'is', 'a', 'form', 'of', 'sweet', 'food', 'made', 'from', 'flour', ',', 'sugar', ',', 'and', 'other', 'ingredients', ',', 'that', 'is', 'usually', 'baked.In', 'their', 'oldest', 'forms', ',', 'cakes', 'were', 'modifications', 'of', 'bread', ',', 'but', 'cakes', 'now', 'cover', 'a', 'wide', 'range', 'of', 'preparations', 'that', 'can', 'be', 'simple', 'or', 'elaborate', ',', 'and', 'that', 'share', 'features', 'with', 'other', 'desserts', 'such', 'as', 'pastries', ',', 'meringues', ',', 'custards', ',', 'and', 'pies.The', 'most', 'commonly', 'used', 'cake', 'ingredients', 'include', 'flour', ',', 'sugar', ',', 'eggs', ',', 'butter', 'or', 'oil', 'or', 'margarine', ',', 'a', 'liquid', ',', 'and', 'leavening', 'agents', ',', 'such', 'as', 'baking', 'soda', 'or', 'baking', 'powder', '.', 'Common', 'additional', 'ingredients', 'and', 'flavourings', 'include', 'dried', ',', 'candied', ',', 'or', 'fresh', 'fruit', ',', 'nuts', ',', 'cocoa', ',', 'and', 'extracts', 'such', 'as', 'vanilla', ',', 'with', 'numerous', 'substitutions', 'for', 'the', 'primary', 'ingredients.Cakes', 'can', 'also', 'be', 'filled', 'with', 'fruit', 'preserves', ',', 'nuts', 'or', 'dessert', 'sauces', '(', 'like', 'pastry', 'cream', ')', ',', 'iced', 'with', 'buttercream', 'or', 'other', 'icings', ',', 'and', 'decorated', 'with', 'marzipan', ',', 'piped', 'borders', ',', 'or', 'candied', 'fruit', '.']\n"
          ]
        }
      ]
    },
    {
      "cell_type": "code",
      "source": [
        "from nltk.probability import FreqDist\n",
        "fdist = FreqDist(tokenized_word)\n",
        "fdist.most_common(4)\n",
        "# Frequency Distribution Plot\n",
        "import matplotlib.pyplot as plt\n",
        "fdist.plot(30, cumulative = False, color = \"green\")\n",
        "plt.show()"
      ],
      "metadata": {
        "colab": {
          "base_uri": "https://localhost:8080/",
          "height": 326
        },
        "id": "v7ddWhkgfN7m",
        "outputId": "bcba7825-325c-43e6-b150-5069228c2263"
      },
      "execution_count": null,
      "outputs": [
        {
          "output_type": "display_data",
          "data": {
            "text/plain": [
              "<Figure size 432x288 with 1 Axes>"
            ],
            "image/png": "[encoded data removed]"
          },
          "metadata": {
            "needs_background": "light"
          }
        }
      ]
    },
    {
      "cell_type": "code",
      "source": [
        "from nltk.corpus import stopwords\n",
        "# download stopwords\n",
        "nltk.download(\"stopwords\")\n",
        "stop_words = set(stopwords.words(\"english\"))\n",
        "print(stop_words)"
      ],
      "metadata": {
        "colab": {
          "base_uri": "https://localhost:8080/"
        },
        "id": "c1-wOch6fTvP",
        "outputId": "95672248-eed6-456d-e5fd-d5326ef2fb6e"
      },
      "execution_count": null,
      "outputs": [
        {
          "output_type": "stream",
          "name": "stderr",
          "text": [
            "[nltk_data] Downloading package stopwords to /root/nltk_data...\n"
          ]
        },
        {
          "output_type": "stream",
          "name": "stdout",
          "text": [
            "{'own', \"couldn't\", 'down', \"isn't\", 'all', 'here', 'to', 'before', 'don', 'some', 'further', \"she's\", \"hasn't\", 'who', 'after', 'above', 'them', 'if', 'were', 'ma', 'o', 'so', 'himself', 'by', 'why', 'couldn', 'these', 'ourselves', 'but', 'out', 'm', 'your', 'doing', \"won't\", 'below', 'on', 'other', \"don't\", 'it', \"aren't\", 'then', 'when', 't', 'this', 'same', 'had', 'once', 'll', 'both', 'should', 'd', 'mightn', 'haven', 'at', 've', 'theirs', 'nor', 'while', 'doesn', 'no', \"hadn't\", 'into', 'itself', 'more', 'very', 're', \"doesn't\", 'didn', 'wasn', \"wasn't\", 'did', \"shouldn't\", 'and', \"you're\", 'been', 'only', 'his', 'are', 'how', 'needn', 'in', 'such', 'being', 'with', 'off', \"mustn't\", 'you', 'from', 'each', 's', 'isn', 'shouldn', 'they', 'again', 'for', 'yourselves', 'aren', 'was', 'has', 'ain', 'themselves', 'until', 'its', 'hers', 'there', 'most', 'shan', 'ours', 'as', 'any', 'now', 'him', 'over', 'those', 'between', 'weren', 'what', 'whom', 'yours', 'of', 'few', 'through', \"you'll\", 'i', 'hasn', 'just', \"that'll\", 'which', \"wouldn't\", \"mightn't\", \"you'd\", 'a', 'she', 'than', 'during', 'am', 'will', \"you've\", 'my', 'myself', 'an', 'do', 'is', \"shan't\", 'not', 'her', 'that', 'y', 'hadn', 'their', 'too', 'won', 'having', \"should've\", \"didn't\", 'he', 'we', 'can', 'or', 'be', 'wouldn', 'mustn', \"haven't\", 'about', \"needn't\", \"weren't\", 'me', 'have', 'yourself', 'does', \"it's\", 'herself', 'up', 'under', 'the', 'because', 'our', 'where', 'against'}\n"
          ]
        },
        {
          "output_type": "stream",
          "name": "stderr",
          "text": [
            "[nltk_data]   Unzipping corpora/stopwords.zip.\n"
          ]
        }
      ]
    },
    {
      "cell_type": "code",
      "source": [
        "filtered_sent=[]\n",
        "for w in tokenized_word:\n",
        "    if w not in stop_words:\n",
        "        filtered_sent.append(w)\n",
        "print(\"Tokenized Sentence:\",tokenized_word)\n",
        "print(\"Filterd Sentence:\",filtered_sent)"
      ],
      "metadata": {
        "colab": {
          "base_uri": "https://localhost:8080/"
        },
        "id": "hS18WS3bfYyK",
        "outputId": "2bfc3a11-0df1-4db5-88b5-73f311124fb9"
      },
      "execution_count": null,
      "outputs": [
        {
          "output_type": "stream",
          "name": "stdout",
          "text": [
            "Tokenized Sentence: ['Cake', 'is', 'a', 'form', 'of', 'sweet', 'food', 'made', 'from', 'flour', ',', 'sugar', ',', 'and', 'other', 'ingredients', ',', 'that', 'is', 'usually', 'baked.In', 'their', 'oldest', 'forms', ',', 'cakes', 'were', 'modifications', 'of', 'bread', ',', 'but', 'cakes', 'now', 'cover', 'a', 'wide', 'range', 'of', 'preparations', 'that', 'can', 'be', 'simple', 'or', 'elaborate', ',', 'and', 'that', 'share', 'features', 'with', 'other', 'desserts', 'such', 'as', 'pastries', ',', 'meringues', ',', 'custards', ',', 'and', 'pies.The', 'most', 'commonly', 'used', 'cake', 'ingredients', 'include', 'flour', ',', 'sugar', ',', 'eggs', ',', 'butter', 'or', 'oil', 'or', 'margarine', ',', 'a', 'liquid', ',', 'and', 'leavening', 'agents', ',', 'such', 'as', 'baking', 'soda', 'or', 'baking', 'powder', '.', 'Common', 'additional', 'ingredients', 'and', 'flavourings', 'include', 'dried', ',', 'candied', ',', 'or', 'fresh', 'fruit', ',', 'nuts', ',', 'cocoa', ',', 'and', 'extracts', 'such', 'as', 'vanilla', ',', 'with', 'numerous', 'substitutions', 'for', 'the', 'primary', 'ingredients.Cakes', 'can', 'also', 'be', 'filled', 'with', 'fruit', 'preserves', ',', 'nuts', 'or', 'dessert', 'sauces', '(', 'like', 'pastry', 'cream', ')', ',', 'iced', 'with', 'buttercream', 'or', 'other', 'icings', ',', 'and', 'decorated', 'with', 'marzipan', ',', 'piped', 'borders', ',', 'or', 'candied', 'fruit', '.']\n",
            "Filterd Sentence: ['Cake', 'form', 'sweet', 'food', 'made', 'flour', ',', 'sugar', ',', 'ingredients', ',', 'usually', 'baked.In', 'oldest', 'forms', ',', 'cakes', 'modifications', 'bread', ',', 'cakes', 'cover', 'wide', 'range', 'preparations', 'simple', 'elaborate', ',', 'share', 'features', 'desserts', 'pastries', ',', 'meringues', ',', 'custards', ',', 'pies.The', 'commonly', 'used', 'cake', 'ingredients', 'include', 'flour', ',', 'sugar', ',', 'eggs', ',', 'butter', 'oil', 'margarine', ',', 'liquid', ',', 'leavening', 'agents', ',', 'baking', 'soda', 'baking', 'powder', '.', 'Common', 'additional', 'ingredients', 'flavourings', 'include', 'dried', ',', 'candied', ',', 'fresh', 'fruit', ',', 'nuts', ',', 'cocoa', ',', 'extracts', 'vanilla', ',', 'numerous', 'substitutions', 'primary', 'ingredients.Cakes', 'also', 'filled', 'fruit', 'preserves', ',', 'nuts', 'dessert', 'sauces', '(', 'like', 'pastry', 'cream', ')', ',', 'iced', 'buttercream', 'icings', ',', 'decorated', 'marzipan', ',', 'piped', 'borders', ',', 'candied', 'fruit', '.']\n"
          ]
        }
      ]
    },
    {
      "cell_type": "code",
      "source": [
        "from nltk.stem import PorterStemmer\n",
        "from nltk.tokenize import sent_tokenize, word_tokenize\n",
        "\n",
        "ps = PorterStemmer()\n",
        "\n",
        "stemmed_words=[]\n",
        "for w in filtered_sent:\n",
        "    stemmed_words.append(ps.stem(w))\n",
        "\n",
        "print(\"Filtered Sentence:\",filtered_sent)\n",
        "print(\"Stemmed Sentence:\",stemmed_words)"
      ],
      "metadata": {
        "colab": {
          "base_uri": "https://localhost:8080/"
        },
        "id": "a1kmEYMCfboq",
        "outputId": "4043e2cc-8a4a-4989-9458-2e8ff551dff1"
      },
      "execution_count": null,
      "outputs": [
        {
          "output_type": "stream",
          "name": "stdout",
          "text": [
            "Filtered Sentence: ['Cake', 'form', 'sweet', 'food', 'made', 'flour', ',', 'sugar', ',', 'ingredients', ',', 'usually', 'baked.In', 'oldest', 'forms', ',', 'cakes', 'modifications', 'bread', ',', 'cakes', 'cover', 'wide', 'range', 'preparations', 'simple', 'elaborate', ',', 'share', 'features', 'desserts', 'pastries', ',', 'meringues', ',', 'custards', ',', 'pies.The', 'commonly', 'used', 'cake', 'ingredients', 'include', 'flour', ',', 'sugar', ',', 'eggs', ',', 'butter', 'oil', 'margarine', ',', 'liquid', ',', 'leavening', 'agents', ',', 'baking', 'soda', 'baking', 'powder', '.', 'Common', 'additional', 'ingredients', 'flavourings', 'include', 'dried', ',', 'candied', ',', 'fresh', 'fruit', ',', 'nuts', ',', 'cocoa', ',', 'extracts', 'vanilla', ',', 'numerous', 'substitutions', 'primary', 'ingredients.Cakes', 'also', 'filled', 'fruit', 'preserves', ',', 'nuts', 'dessert', 'sauces', '(', 'like', 'pastry', 'cream', ')', ',', 'iced', 'buttercream', 'icings', ',', 'decorated', 'marzipan', ',', 'piped', 'borders', ',', 'candied', 'fruit', '.']\n",
            "Stemmed Sentence: ['cake', 'form', 'sweet', 'food', 'made', 'flour', ',', 'sugar', ',', 'ingredi', ',', 'usual', 'baked.in', 'oldest', 'form', ',', 'cake', 'modif', 'bread', ',', 'cake', 'cover', 'wide', 'rang', 'prepar', 'simpl', 'elabor', ',', 'share', 'featur', 'dessert', 'pastri', ',', 'meringu', ',', 'custard', ',', 'pies.th', 'commonli', 'use', 'cake', 'ingredi', 'includ', 'flour', ',', 'sugar', ',', 'egg', ',', 'butter', 'oil', 'margarin', ',', 'liquid', ',', 'leaven', 'agent', ',', 'bake', 'soda', 'bake', 'powder', '.', 'common', 'addit', 'ingredi', 'flavour', 'includ', 'dri', ',', 'candi', ',', 'fresh', 'fruit', ',', 'nut', ',', 'cocoa', ',', 'extract', 'vanilla', ',', 'numer', 'substitut', 'primari', 'ingredients.cak', 'also', 'fill', 'fruit', 'preserv', ',', 'nut', 'dessert', 'sauc', '(', 'like', 'pastri', 'cream', ')', ',', 'ice', 'buttercream', 'ice', ',', 'decor', 'marzipan', ',', 'pipe', 'border', ',', 'candi', 'fruit', '.']\n"
          ]
        }
      ]
    },
    {
      "cell_type": "markdown",
      "source": [
        "# ***Exercise***:\n",
        "## Perform the above steps on any other dataset available in Sklearn library."
      ],
      "metadata": {
        "id": "VqaFrZItfmvE"
      }
    },
    {
      "cell_type": "code",
      "source": [
        "import pandas as pd\n",
        "import numpy as np\n",
        "import matplotlib.pyplot as plt\n",
        "main_data = pd.read_csv('/content/drive/MyDrive/sem 6/ML/LAB 1/iris.csv')\n",
        "print(main_data.head())\n",
        "plt.scatter(main_data[\"sepal.length\"], main_data[\"sepal.width\"])\n",
        "plt.show()\n",
        "\n",
        "plt.hist(main_data[\"sepal.length\"],bins=5)\n",
        "plt.show()\n",
        "\n",
        "fig_size = plt.figure(figsize=(7, 5))\n",
        "plt.bar(main_data[\"sepal.length\"], main_data[\"sepal.width\"], color=\"green\")\n",
        "plt.xlabel(\"sepal.length\")\n",
        "plt.ylabel(\"sepal.width\")\n",
        "plt.title(\"Bar chart of sepal.length vs sepal.width\")\n",
        "plt.show()\n",
        "\n",
        "print(\"Total Null Data:\",main_data.isnull().sum())\n",
        "\n",
        "display(main_data.iloc[1 : 5, 1 : 2])\n",
        "\n",
        "display(main_data.iloc[5 : , 1 : ])"
      ],
      "metadata": {
        "colab": {
          "base_uri": "https://localhost:8080/",
          "height": 1000
        },
        "id": "Nh6YPJiefvfN",
        "outputId": "d9693185-fe70-4e82-d9ed-db54b1b3c63c"
      },
      "execution_count": null,
      "outputs": [
        {
          "output_type": "stream",
          "name": "stdout",
          "text": [
            "   sepal.length  sepal.width  petal.length  petal.width variety\n",
            "0           5.1          3.5           1.4          0.2  Setosa\n",
            "1           4.9          3.0           1.4          0.2  Setosa\n",
            "2           4.7          3.2           1.3          0.2  Setosa\n",
            "3           4.6          3.1           1.5          0.2  Setosa\n",
            "4           5.0          3.6           1.4          0.2  Setosa\n"
          ]
        },
        {
          "output_type": "display_data",
          "data": {
            "text/plain": [
              "<Figure size 432x288 with 1 Axes>"
            ],
            "image/png": "[encoded data removed]"
          },
          "metadata": {
            "needs_background": "light"
          }
        },
        {
          "output_type": "display_data",
          "data": {
            "text/plain": [
              "<Figure size 432x288 with 1 Axes>"
            ],
            "image/png": "[encoded data removed]"
          },
          "metadata": {
            "needs_background": "light"
          }
        },
        {
          "output_type": "display_data",
          "data": {
            "text/plain": [
              "<Figure size 504x360 with 1 Axes>"
            ],
            "image/png": "[encoded data removed]"
          },
          "metadata": {
            "needs_background": "light"
          }
        },
        {
          "output_type": "stream",
          "name": "stdout",
          "text": [
            "Total Null Data: sepal.length    0\n",
            "sepal.width     0\n",
            "petal.length    0\n",
            "petal.width     0\n",
            "variety         0\n",
            "dtype: int64\n"
          ]
        },
        {
          "output_type": "display_data",
          "data": {
            "text/plain": [
              "   sepal.width\n",
              "1          3.0\n",
              "2          3.2\n",
              "3          3.1\n",
              "4          3.6"
            ],
            "text/html": [
              "\n",
              "  <div id=\"df-22ef191a-690e-4eb9-9f45-11444030fb00\">\n",
              "    <div class=\"colab-df-container\">\n",
              "      <div>\n",
              "<style scoped>\n",
              "    .dataframe tbody tr th:only-of-type {\n",
              "        vertical-align: middle;\n",
              "    }\n",
              "\n",
              "    .dataframe tbody tr th {\n",
              "        vertical-align: top;\n",
              "    }\n",
              "\n",
              "    .dataframe thead th {\n",
              "        text-align: right;\n",
              "    }\n",
              "</style>\n",
              "<table border=\"1\" class=\"dataframe\">\n",
              "  <thead>\n",
              "    <tr style=\"text-align: right;\">\n",
              "      <th></th>\n",
              "      <th>sepal.width</th>\n",
              "    </tr>\n",
              "  </thead>\n",
              "  <tbody>\n",
              "    <tr>\n",
              "      <th>1</th>\n",
              "      <td>3.0</td>\n",
              "    </tr>\n",
              "    <tr>\n",
              "      <th>2</th>\n",
              "      <td>3.2</td>\n",
              "    </tr>\n",
              "    <tr>\n",
              "      <th>3</th>\n",
              "      <td>3.1</td>\n",
              "    </tr>\n",
              "    <tr>\n",
              "      <th>4</th>\n",
              "      <td>3.6</td>\n",
              "    </tr>\n",
              "  </tbody>\n",
              "</table>\n",
              "</div>\n",
              "      <button class=\"colab-df-convert\" onclick=\"convertToInteractive('df-22ef191a-690e-4eb9-9f45-11444030fb00')\"\n",
              "              title=\"Convert this dataframe to an interactive table.\"\n",
              "              style=\"display:none;\">\n",
              "        \n",
              "  <svg xmlns=\"http://www.w3.org/2000/svg\" height=\"24px\"viewBox=\"0 0 24 24\"\n",
              "       width=\"24px\">\n",
              "    <path d=\"M0 0h24v24H0V0z\" fill=\"none\"/>\n",
              "    <path d=\"M18.56 5.44l.94 2.06.94-2.06 2.06-.94-2.06-.94-.94-2.06-.94 2.06-2.06.94zm-11 1L8.5 8.5l.94-2.06 2.06-.94-2.06-.94L8.5 2.5l-.94 2.06-2.06.94zm10 10l.94 2.06.94-2.06 2.06-.94-2.06-.94-.94-2.06-.94 2.06-2.06.94z\"/><path d=\"M17.41 7.96l-1.37-1.37c-.4-.4-.92-.59-1.43-.59-.52 0-1.04.2-1.43.59L10.3 9.45l-7.72 7.72c-.78.78-.78 2.05 0 2.83L4 21.41c.39.39.9.59 1.41.59.51 0 1.02-.2 1.41-.59l7.78-7.78 2.81-2.81c.8-.78.8-2.07 0-2.86zM5.41 20L4 18.59l7.72-7.72 1.47 1.35L5.41 20z\"/>\n",
              "  </svg>\n",
              "      </button>\n",
              "      \n",
              "  <style>\n",
              "    .colab-df-container {\n",
              "      display:flex;\n",
              "      flex-wrap:wrap;\n",
              "      gap: 12px;\n",
              "    }\n",
              "\n",
              "    .colab-df-convert {\n",
              "      background-color: #E8F0FE;\n",
              "      border: none;\n",
              "      border-radius: 50%;\n",
              "      cursor: pointer;\n",
              "      display: none;\n",
              "      fill: #1967D2;\n",
              "      height: 32px;\n",
              "      padding: 0 0 0 0;\n",
              "      width: 32px;\n",
              "    }\n",
              "\n",
              "    .colab-df-convert:hover {\n",
              "      background-color: #E2EBFA;\n",
              "      box-shadow: 0px 1px 2px rgba(60, 64, 67, 0.3), 0px 1px 3px 1px rgba(60, 64, 67, 0.15);\n",
              "      fill: #174EA6;\n",
              "    }\n",
              "\n",
              "    [theme=dark] .colab-df-convert {\n",
              "      background-color: #3B4455;\n",
              "      fill: #D2E3FC;\n",
              "    }\n",
              "\n",
              "    [theme=dark] .colab-df-convert:hover {\n",
              "      background-color: #434B5C;\n",
              "      box-shadow: 0px 1px 3px 1px rgba(0, 0, 0, 0.15);\n",
              "      filter: drop-shadow(0px 1px 2px rgba(0, 0, 0, 0.3));\n",
              "      fill: #FFFFFF;\n",
              "    }\n",
              "  </style>\n",
              "\n",
              "      <script>\n",
              "        const buttonEl =\n",
              "          document.querySelector('#df-22ef191a-690e-4eb9-9f45-11444030fb00 button.colab-df-convert');\n",
              "        buttonEl.style.display =\n",
              "          google.colab.kernel.accessAllowed ? 'block' : 'none';\n",
              "\n",
              "        async function convertToInteractive(key) {\n",
              "          const element = document.querySelector('#df-22ef191a-690e-4eb9-9f45-11444030fb00');\n",
              "          const dataTable =\n",
              "            await google.colab.kernel.invokeFunction('convertToInteractive',\n",
              "                                                     [key], {});\n",
              "          if (!dataTable) return;\n",
              "\n",
              "          const docLinkHtml = 'Like what you see? Visit the ' +\n",
              "            '<a target=\"_blank\" href=https://colab.research.google.com/notebooks/data_table.ipynb>data table notebook</a>'\n",
              "            + ' to learn more about interactive tables.';\n",
              "          element.innerHTML = '';\n",
              "          dataTable['output_type'] = 'display_data';\n",
              "          await google.colab.output.renderOutput(dataTable, element);\n",
              "          const docLink = document.createElement('div');\n",
              "          docLink.innerHTML = docLinkHtml;\n",
              "          element.appendChild(docLink);\n",
              "        }\n",
              "      </script>\n",
              "    </div>\n",
              "  </div>\n",
              "  "
            ]
          },
          "metadata": {}
        },
        {
          "output_type": "display_data",
          "data": {
            "text/plain": [
              "     sepal.width  petal.length  petal.width    variety\n",
              "5            3.9           1.7          0.4     Setosa\n",
              "6            3.4           1.4          0.3     Setosa\n",
              "7            3.4           1.5          0.2     Setosa\n",
              "8            2.9           1.4          0.2     Setosa\n",
              "9            3.1           1.5          0.1     Setosa\n",
              "..           ...           ...          ...        ...\n",
              "145          3.0           5.2          2.3  Virginica\n",
              "146          2.5           5.0          1.9  Virginica\n",
              "147          3.0           5.2          2.0  Virginica\n",
              "148          3.4           5.4          2.3  Virginica\n",
              "149          3.0           5.1          1.8  Virginica\n",
              "\n",
              "[145 rows x 4 columns]"
            ],
            "text/html": [
              "\n",
              "  <div id=\"df-2ac6fb6e-0905-47b9-bb2c-04ebd042f00a\">\n",
              "    <div class=\"colab-df-container\">\n",
              "      <div>\n",
              "<style scoped>\n",
              "    .dataframe tbody tr th:only-of-type {\n",
              "        vertical-align: middle;\n",
              "    }\n",
              "\n",
              "    .dataframe tbody tr th {\n",
              "        vertical-align: top;\n",
              "    }\n",
              "\n",
              "    .dataframe thead th {\n",
              "        text-align: right;\n",
              "    }\n",
              "</style>\n",
              "<table border=\"1\" class=\"dataframe\">\n",
              "  <thead>\n",
              "    <tr style=\"text-align: right;\">\n",
              "      <th></th>\n",
              "      <th>sepal.width</th>\n",
              "      <th>petal.length</th>\n",
              "      <th>petal.width</th>\n",
              "      <th>variety</th>\n",
              "    </tr>\n",
              "  </thead>\n",
              "  <tbody>\n",
              "    <tr>\n",
              "      <th>5</th>\n",
              "      <td>3.9</td>\n",
              "      <td>1.7</td>\n",
              "      <td>0.4</td>\n",
              "      <td>Setosa</td>\n",
              "    </tr>\n",
              "    <tr>\n",
              "      <th>6</th>\n",
              "      <td>3.4</td>\n",
              "      <td>1.4</td>\n",
              "      <td>0.3</td>\n",
              "      <td>Setosa</td>\n",
              "    </tr>\n",
              "    <tr>\n",
              "      <th>7</th>\n",
              "      <td>3.4</td>\n",
              "      <td>1.5</td>\n",
              "      <td>0.2</td>\n",
              "      <td>Setosa</td>\n",
              "    </tr>\n",
              "    <tr>\n",
              "      <th>8</th>\n",
              "      <td>2.9</td>\n",
              "      <td>1.4</td>\n",
              "      <td>0.2</td>\n",
              "      <td>Setosa</td>\n",
              "    </tr>\n",
              "    <tr>\n",
              "      <th>9</th>\n",
              "      <td>3.1</td>\n",
              "      <td>1.5</td>\n",
              "      <td>0.1</td>\n",
              "      <td>Setosa</td>\n",
              "    </tr>\n",
              "    <tr>\n",
              "      <th>...</th>\n",
              "      <td>...</td>\n",
              "      <td>...</td>\n",
              "      <td>...</td>\n",
              "      <td>...</td>\n",
              "    </tr>\n",
              "    <tr>\n",
              "      <th>145</th>\n",
              "      <td>3.0</td>\n",
              "      <td>5.2</td>\n",
              "      <td>2.3</td>\n",
              "      <td>Virginica</td>\n",
              "    </tr>\n",
              "    <tr>\n",
              "      <th>146</th>\n",
              "      <td>2.5</td>\n",
              "      <td>5.0</td>\n",
              "      <td>1.9</td>\n",
              "      <td>Virginica</td>\n",
              "    </tr>\n",
              "    <tr>\n",
              "      <th>147</th>\n",
              "      <td>3.0</td>\n",
              "      <td>5.2</td>\n",
              "      <td>2.0</td>\n",
              "      <td>Virginica</td>\n",
              "    </tr>\n",
              "    <tr>\n",
              "      <th>148</th>\n",
              "      <td>3.4</td>\n",
              "      <td>5.4</td>\n",
              "      <td>2.3</td>\n",
              "      <td>Virginica</td>\n",
              "    </tr>\n",
              "    <tr>\n",
              "      <th>149</th>\n",
              "      <td>3.0</td>\n",
              "      <td>5.1</td>\n",
              "      <td>1.8</td>\n",
              "      <td>Virginica</td>\n",
              "    </tr>\n",
              "  </tbody>\n",
              "</table>\n",
              "<p>145 rows × 4 columns</p>\n",
              "</div>\n",
              "      <button class=\"colab-df-convert\" onclick=\"convertToInteractive('df-2ac6fb6e-0905-47b9-bb2c-04ebd042f00a')\"\n",
              "              title=\"Convert this dataframe to an interactive table.\"\n",
              "              style=\"display:none;\">\n",
              "        \n",
              "  <svg xmlns=\"http://www.w3.org/2000/svg\" height=\"24px\"viewBox=\"0 0 24 24\"\n",
              "       width=\"24px\">\n",
              "    <path d=\"M0 0h24v24H0V0z\" fill=\"none\"/>\n",
              "    <path d=\"M18.56 5.44l.94 2.06.94-2.06 2.06-.94-2.06-.94-.94-2.06-.94 2.06-2.06.94zm-11 1L8.5 8.5l.94-2.06 2.06-.94-2.06-.94L8.5 2.5l-.94 2.06-2.06.94zm10 10l.94 2.06.94-2.06 2.06-.94-2.06-.94-.94-2.06-.94 2.06-2.06.94z\"/><path d=\"M17.41 7.96l-1.37-1.37c-.4-.4-.92-.59-1.43-.59-.52 0-1.04.2-1.43.59L10.3 9.45l-7.72 7.72c-.78.78-.78 2.05 0 2.83L4 21.41c.39.39.9.59 1.41.59.51 0 1.02-.2 1.41-.59l7.78-7.78 2.81-2.81c.8-.78.8-2.07 0-2.86zM5.41 20L4 18.59l7.72-7.72 1.47 1.35L5.41 20z\"/>\n",
              "  </svg>\n",
              "      </button>\n",
              "      \n",
              "  <style>\n",
              "    .colab-df-container {\n",
              "      display:flex;\n",
              "      flex-wrap:wrap;\n",
              "      gap: 12px;\n",
              "    }\n",
              "\n",
              "    .colab-df-convert {\n",
              "      background-color: #E8F0FE;\n",
              "      border: none;\n",
              "      border-radius: 50%;\n",
              "      cursor: pointer;\n",
              "      display: none;\n",
              "      fill: #1967D2;\n",
              "      height: 32px;\n",
              "      padding: 0 0 0 0;\n",
              "      width: 32px;\n",
              "    }\n",
              "\n",
              "    .colab-df-convert:hover {\n",
              "      background-color: #E2EBFA;\n",
              "      box-shadow: 0px 1px 2px rgba(60, 64, 67, 0.3), 0px 1px 3px 1px rgba(60, 64, 67, 0.15);\n",
              "      fill: #174EA6;\n",
              "    }\n",
              "\n",
              "    [theme=dark] .colab-df-convert {\n",
              "      background-color: #3B4455;\n",
              "      fill: #D2E3FC;\n",
              "    }\n",
              "\n",
              "    [theme=dark] .colab-df-convert:hover {\n",
              "      background-color: #434B5C;\n",
              "      box-shadow: 0px 1px 3px 1px rgba(0, 0, 0, 0.15);\n",
              "      filter: drop-shadow(0px 1px 2px rgba(0, 0, 0, 0.3));\n",
              "      fill: #FFFFFF;\n",
              "    }\n",
              "  </style>\n",
              "\n",
              "      <script>\n",
              "        const buttonEl =\n",
              "          document.querySelector('#df-2ac6fb6e-0905-47b9-bb2c-04ebd042f00a button.colab-df-convert');\n",
              "        buttonEl.style.display =\n",
              "          google.colab.kernel.accessAllowed ? 'block' : 'none';\n",
              "\n",
              "        async function convertToInteractive(key) {\n",
              "          const element = document.querySelector('#df-2ac6fb6e-0905-47b9-bb2c-04ebd042f00a');\n",
              "          const dataTable =\n",
              "            await google.colab.kernel.invokeFunction('convertToInteractive',\n",
              "                                                     [key], {});\n",
              "          if (!dataTable) return;\n",
              "\n",
              "          const docLinkHtml = 'Like what you see? Visit the ' +\n",
              "            '<a target=\"_blank\" href=https://colab.research.google.com/notebooks/data_table.ipynb>data table notebook</a>'\n",
              "            + ' to learn more about interactive tables.';\n",
              "          element.innerHTML = '';\n",
              "          dataTable['output_type'] = 'display_data';\n",
              "          await google.colab.output.renderOutput(dataTable, element);\n",
              "          const docLink = document.createElement('div');\n",
              "          docLink.innerHTML = docLinkHtml;\n",
              "          element.appendChild(docLink);\n",
              "        }\n",
              "      </script>\n",
              "    </div>\n",
              "  </div>\n",
              "  "
            ]
          },
          "metadata": {}
        }
      ]
    },
    {
      "cell_type": "code",
      "source": [
        "import numpy as np\n",
        "import matplotlib as plt\n",
        "from sklearn import datasets #various toy datasets\n",
        "from sklearn import metrics #Check accuracy of model\n",
        "from sklearn.linear_model import LogisticRegression\n",
        "\n",
        "wine = datasets.load_wine()\n",
        "X = wine.data\n",
        "y= wine.target\n",
        "feature_names = wine.feature_names\n",
        "target_names = wine.target_names\n",
        "print(\"Feature names:\", feature_names)\n",
        "print(\"Target names:\", target_names)\n",
        "print(\"\\nFirst 10 rows of X:\\n\", X[:10])\n",
        "\n",
        "from sklearn.model_selection import train_test_split\n",
        "X_train, X_test, y_train, y_test = train_test_split(\n",
        "X, y, test_size = 0.4, random_state=1\n",
        ")"
      ],
      "metadata": {
        "colab": {
          "base_uri": "https://localhost:8080/"
        },
        "id": "5RD8sfhHgoGu",
        "outputId": "0ba11d49-abac-4d09-f302-c908daf0a424"
      },
      "execution_count": null,
      "outputs": [
        {
          "output_type": "stream",
          "name": "stdout",
          "text": [
            "Feature names: ['alcohol', 'malic_acid', 'ash', 'alcalinity_of_ash', 'magnesium', 'total_phenols', 'flavanoids', 'nonflavanoid_phenols', 'proanthocyanins', 'color_intensity', 'hue', 'od280/od315_of_diluted_wines', 'proline']\n",
            "Target names: ['class_0' 'class_1' 'class_2']\n",
            "\n",
            "First 10 rows of X:\n",
            " [[1.423e+01 1.710e+00 2.430e+00 1.560e+01 1.270e+02 2.800e+00 3.060e+00\n",
            "  2.800e-01 2.290e+00 5.640e+00 1.040e+00 3.920e+00 1.065e+03]\n",
            " [1.320e+01 1.780e+00 2.140e+00 1.120e+01 1.000e+02 2.650e+00 2.760e+00\n",
            "  2.600e-01 1.280e+00 4.380e+00 1.050e+00 3.400e+00 1.050e+03]\n",
            " [1.316e+01 2.360e+00 2.670e+00 1.860e+01 1.010e+02 2.800e+00 3.240e+00\n",
            "  3.000e-01 2.810e+00 5.680e+00 1.030e+00 3.170e+00 1.185e+03]\n",
            " [1.437e+01 1.950e+00 2.500e+00 1.680e+01 1.130e+02 3.850e+00 3.490e+00\n",
            "  2.400e-01 2.180e+00 7.800e+00 8.600e-01 3.450e+00 1.480e+03]\n",
            " [1.324e+01 2.590e+00 2.870e+00 2.100e+01 1.180e+02 2.800e+00 2.690e+00\n",
            "  3.900e-01 1.820e+00 4.320e+00 1.040e+00 2.930e+00 7.350e+02]\n",
            " [1.420e+01 1.760e+00 2.450e+00 1.520e+01 1.120e+02 3.270e+00 3.390e+00\n",
            "  3.400e-01 1.970e+00 6.750e+00 1.050e+00 2.850e+00 1.450e+03]\n",
            " [1.439e+01 1.870e+00 2.450e+00 1.460e+01 9.600e+01 2.500e+00 2.520e+00\n",
            "  3.000e-01 1.980e+00 5.250e+00 1.020e+00 3.580e+00 1.290e+03]\n",
            " [1.406e+01 2.150e+00 2.610e+00 1.760e+01 1.210e+02 2.600e+00 2.510e+00\n",
            "  3.100e-01 1.250e+00 5.050e+00 1.060e+00 3.580e+00 1.295e+03]\n",
            " [1.483e+01 1.640e+00 2.170e+00 1.400e+01 9.700e+01 2.800e+00 2.980e+00\n",
            "  2.900e-01 1.980e+00 5.200e+00 1.080e+00 2.850e+00 1.045e+03]\n",
            " [1.386e+01 1.350e+00 2.270e+00 1.600e+01 9.800e+01 2.980e+00 3.150e+00\n",
            "  2.200e-01 1.850e+00 7.220e+00 1.010e+00 3.550e+00 1.045e+03]]\n"
          ]
        }
      ]
    }
  ]
}