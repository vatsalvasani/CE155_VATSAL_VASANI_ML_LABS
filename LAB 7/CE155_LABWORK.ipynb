{
  "nbformat": 4,
  "nbformat_minor": 0,
  "metadata": {
    "colab": {
      "provenance": [],
      "include_colab_link": true
    },
    "kernelspec": {
      "name": "python3",
      "display_name": "Python 3"
    },
    "language_info": {
      "name": "python"
    }
  },
  "cells": [
    {
      "cell_type": "markdown",
      "metadata": {
        "id": "view-in-github",
        "colab_type": "text"
      },
      "source": [
        "<a href=\"https://colab.research.google.com/github/vatsalvasani/CE155_ML/blob/main/LAB%207/CE155_LABWORK.ipynb\" target=\"_parent\"><img src=\"https://colab.research.google.com/assets/colab-badge.svg\" alt=\"Open In Colab\"/></a>"
      ]
    },
    {
      "cell_type": "markdown",
      "source": [
        "# **LAB : 7**\n",
        "### **LABWORK**"
      ],
      "metadata": {
        "id": "8tMxaZ4h5rjt"
      }
    },
    {
      "cell_type": "code",
      "execution_count": 57,
      "metadata": {
        "colab": {
          "base_uri": "https://localhost:8080/"
        },
        "id": "5slHt29QmzBJ",
        "outputId": "94256d45-8c51-41d3-fba4-c784546bc658"
      },
      "outputs": [
        {
          "output_type": "stream",
          "name": "stdout",
          "text": [
            "Drive already mounted at /content/drive; to attempt to forcibly remount, call drive.mount(\"/content/drive\", force_remount=True).\n"
          ]
        }
      ],
      "source": [
        "import numpy as np\n",
        "import pandas as pd\n",
        "import io\n",
        "import matplotlib.pyplot as plt\n",
        "from google.colab import drive\n",
        "drive.mount(\"/content/drive\")"
      ]
    },
    {
      "cell_type": "code",
      "source": [
        "from google.colab import drive\n",
        "drive.mount(\"/content/drive\")\n",
        "data = pd.read_csv(\"/content/drive/MyDrive/sem 6/ML/LAB 7/BuyComputer.csv\")\n",
        "print(\"\\nData :\\n\",data)"
      ],
      "metadata": {
        "colab": {
          "base_uri": "https://localhost:8080/"
        },
        "id": "onabsBNcovVT",
        "outputId": "529c5b3d-7863-4ebc-899c-3ee807c8430b"
      },
      "execution_count": 58,
      "outputs": [
        {
          "output_type": "stream",
          "name": "stdout",
          "text": [
            "Drive already mounted at /content/drive; to attempt to forcibly remount, call drive.mount(\"/content/drive\", force_remount=True).\n",
            "\n",
            "Data :\n",
            "       User ID  Age  EstimatedSalary  Purchased\n",
            "0    15624510   19            19000          0\n",
            "1    15810944   35            20000          0\n",
            "2    15668575   26            43000          0\n",
            "3    15603246   27            57000          0\n",
            "4    15804002   19            76000          0\n",
            "..        ...  ...              ...        ...\n",
            "395  15691863   46            41000          1\n",
            "396  15706071   51            23000          1\n",
            "397  15654296   50            20000          1\n",
            "398  15755018   36            33000          0\n",
            "399  15594041   49            36000          1\n",
            "\n",
            "[400 rows x 4 columns]\n"
          ]
        }
      ]
    },
    {
      "cell_type": "code",
      "source": [
        "data.drop(columns=['User ID',],axis=1,inplace=True)\n",
        "data.head()"
      ],
      "metadata": {
        "colab": {
          "base_uri": "https://localhost:8080/",
          "height": 206
        },
        "id": "1BJ3Ju4zpcqZ",
        "outputId": "fca4e927-0efd-488c-8dab-6d354b2a80b2"
      },
      "execution_count": 59,
      "outputs": [
        {
          "output_type": "execute_result",
          "data": {
            "text/plain": [
              "   Age  EstimatedSalary  Purchased\n",
              "0   19            19000          0\n",
              "1   35            20000          0\n",
              "2   26            43000          0\n",
              "3   27            57000          0\n",
              "4   19            76000          0"
            ],
            "text/html": [
              "\n",
              "  <div id=\"df-58a8fc1c-868b-4048-a6de-6a177af1dd86\">\n",
              "    <div class=\"colab-df-container\">\n",
              "      <div>\n",
              "<style scoped>\n",
              "    .dataframe tbody tr th:only-of-type {\n",
              "        vertical-align: middle;\n",
              "    }\n",
              "\n",
              "    .dataframe tbody tr th {\n",
              "        vertical-align: top;\n",
              "    }\n",
              "\n",
              "    .dataframe thead th {\n",
              "        text-align: right;\n",
              "    }\n",
              "</style>\n",
              "<table border=\"1\" class=\"dataframe\">\n",
              "  <thead>\n",
              "    <tr style=\"text-align: right;\">\n",
              "      <th></th>\n",
              "      <th>Age</th>\n",
              "      <th>EstimatedSalary</th>\n",
              "      <th>Purchased</th>\n",
              "    </tr>\n",
              "  </thead>\n",
              "  <tbody>\n",
              "    <tr>\n",
              "      <th>0</th>\n",
              "      <td>19</td>\n",
              "      <td>19000</td>\n",
              "      <td>0</td>\n",
              "    </tr>\n",
              "    <tr>\n",
              "      <th>1</th>\n",
              "      <td>35</td>\n",
              "      <td>20000</td>\n",
              "      <td>0</td>\n",
              "    </tr>\n",
              "    <tr>\n",
              "      <th>2</th>\n",
              "      <td>26</td>\n",
              "      <td>43000</td>\n",
              "      <td>0</td>\n",
              "    </tr>\n",
              "    <tr>\n",
              "      <th>3</th>\n",
              "      <td>27</td>\n",
              "      <td>57000</td>\n",
              "      <td>0</td>\n",
              "    </tr>\n",
              "    <tr>\n",
              "      <th>4</th>\n",
              "      <td>19</td>\n",
              "      <td>76000</td>\n",
              "      <td>0</td>\n",
              "    </tr>\n",
              "  </tbody>\n",
              "</table>\n",
              "</div>\n",
              "      <button class=\"colab-df-convert\" onclick=\"convertToInteractive('df-58a8fc1c-868b-4048-a6de-6a177af1dd86')\"\n",
              "              title=\"Convert this dataframe to an interactive table.\"\n",
              "              style=\"display:none;\">\n",
              "        \n",
              "  <svg xmlns=\"http://www.w3.org/2000/svg\" height=\"24px\"viewBox=\"0 0 24 24\"\n",
              "       width=\"24px\">\n",
              "    <path d=\"M0 0h24v24H0V0z\" fill=\"none\"/>\n",
              "    <path d=\"M18.56 5.44l.94 2.06.94-2.06 2.06-.94-2.06-.94-.94-2.06-.94 2.06-2.06.94zm-11 1L8.5 8.5l.94-2.06 2.06-.94-2.06-.94L8.5 2.5l-.94 2.06-2.06.94zm10 10l.94 2.06.94-2.06 2.06-.94-2.06-.94-.94-2.06-.94 2.06-2.06.94z\"/><path d=\"M17.41 7.96l-1.37-1.37c-.4-.4-.92-.59-1.43-.59-.52 0-1.04.2-1.43.59L10.3 9.45l-7.72 7.72c-.78.78-.78 2.05 0 2.83L4 21.41c.39.39.9.59 1.41.59.51 0 1.02-.2 1.41-.59l7.78-7.78 2.81-2.81c.8-.78.8-2.07 0-2.86zM5.41 20L4 18.59l7.72-7.72 1.47 1.35L5.41 20z\"/>\n",
              "  </svg>\n",
              "      </button>\n",
              "      \n",
              "  <style>\n",
              "    .colab-df-container {\n",
              "      display:flex;\n",
              "      flex-wrap:wrap;\n",
              "      gap: 12px;\n",
              "    }\n",
              "\n",
              "    .colab-df-convert {\n",
              "      background-color: #E8F0FE;\n",
              "      border: none;\n",
              "      border-radius: 50%;\n",
              "      cursor: pointer;\n",
              "      display: none;\n",
              "      fill: #1967D2;\n",
              "      height: 32px;\n",
              "      padding: 0 0 0 0;\n",
              "      width: 32px;\n",
              "    }\n",
              "\n",
              "    .colab-df-convert:hover {\n",
              "      background-color: #E2EBFA;\n",
              "      box-shadow: 0px 1px 2px rgba(60, 64, 67, 0.3), 0px 1px 3px 1px rgba(60, 64, 67, 0.15);\n",
              "      fill: #174EA6;\n",
              "    }\n",
              "\n",
              "    [theme=dark] .colab-df-convert {\n",
              "      background-color: #3B4455;\n",
              "      fill: #D2E3FC;\n",
              "    }\n",
              "\n",
              "    [theme=dark] .colab-df-convert:hover {\n",
              "      background-color: #434B5C;\n",
              "      box-shadow: 0px 1px 3px 1px rgba(0, 0, 0, 0.15);\n",
              "      filter: drop-shadow(0px 1px 2px rgba(0, 0, 0, 0.3));\n",
              "      fill: #FFFFFF;\n",
              "    }\n",
              "  </style>\n",
              "\n",
              "      <script>\n",
              "        const buttonEl =\n",
              "          document.querySelector('#df-58a8fc1c-868b-4048-a6de-6a177af1dd86 button.colab-df-convert');\n",
              "        buttonEl.style.display =\n",
              "          google.colab.kernel.accessAllowed ? 'block' : 'none';\n",
              "\n",
              "        async function convertToInteractive(key) {\n",
              "          const element = document.querySelector('#df-58a8fc1c-868b-4048-a6de-6a177af1dd86');\n",
              "          const dataTable =\n",
              "            await google.colab.kernel.invokeFunction('convertToInteractive',\n",
              "                                                     [key], {});\n",
              "          if (!dataTable) return;\n",
              "\n",
              "          const docLinkHtml = 'Like what you see? Visit the ' +\n",
              "            '<a target=\"_blank\" href=https://colab.research.google.com/notebooks/data_table.ipynb>data table notebook</a>'\n",
              "            + ' to learn more about interactive tables.';\n",
              "          element.innerHTML = '';\n",
              "          dataTable['output_type'] = 'display_data';\n",
              "          await google.colab.output.renderOutput(dataTable, element);\n",
              "          const docLink = document.createElement('div');\n",
              "          docLink.innerHTML = docLinkHtml;\n",
              "          element.appendChild(docLink);\n",
              "        }\n",
              "      </script>\n",
              "    </div>\n",
              "  </div>\n",
              "  "
            ]
          },
          "metadata": {},
          "execution_count": 59
        }
      ]
    },
    {
      "cell_type": "code",
      "source": [
        "features_Cols=['Age' ,'EstimatedSalary']\n",
        "x = data.iloc[:, :-1].values\n",
        "y = data.iloc[:, -1].values\n"
      ],
      "metadata": {
        "id": "cu9-xvWUr685"
      },
      "execution_count": 60,
      "outputs": []
    },
    {
      "cell_type": "code",
      "source": [
        "from sklearn.model_selection import train_test_split\n",
        "X_train, X_test, y_train, y_test =train_test_split(x,y,test_size=0.1)\n"
      ],
      "metadata": {
        "id": "_0MTkHwIrmW6"
      },
      "execution_count": 61,
      "outputs": []
    },
    {
      "cell_type": "code",
      "source": [
        "from sklearn.preprocessing import StandardScaler\n",
        "sc = StandardScaler()\n",
        "X_train = sc.fit_transform(X_train)\n",
        "X_test = sc.transform(X_test)\n"
      ],
      "metadata": {
        "id": "rC8xio9Dshsw"
      },
      "execution_count": 62,
      "outputs": []
    },
    {
      "cell_type": "code",
      "source": [
        "def sigmoid(z):\n",
        "  sig = 1/(1+exp(-z))\n",
        "  return sig"
      ],
      "metadata": {
        "id": "UJ-nEuIl0w35"
      },
      "execution_count": 63,
      "outputs": []
    },
    {
      "cell_type": "code",
      "source": [
        "def standardize(X_tr):\n",
        "    for i in range(shape(X_tr)[1]):\n",
        "        X_tr[:,i] = (X_tr[:,i] - np.mean(X_tr[:,i]))/np.std(X_tr[:,i])"
      ],
      "metadata": {
        "id": "R0luQm5b07mA"
      },
      "execution_count": 64,
      "outputs": []
    },
    {
      "cell_type": "code",
      "source": [
        "def F1_score(y,y_hat):\n",
        "    tp,tn,fp,fn = 0,0,0,0\n",
        "    for i in range(len(y)):\n",
        "        if y[i] == 1 and y_hat[i] == 1:\n",
        "            tp += 1\n",
        "        elif y[i] == 1 and y_hat[i] == 0:\n",
        "            fn += 1\n",
        "        elif y[i] == 0 and y_hat[i] == 1:\n",
        "            fp += 1\n",
        "        elif y[i] == 0 and y_hat[i] == 0:\n",
        "            tn += 1\n",
        "    precision = tp/(tp+fp)\n",
        "    recall = tp/(tp+fn)\n",
        "    f1_score = 2*precision*recall/(precision+recall)\n",
        "    return f1_score"
      ],
      "metadata": {
        "id": "RHP6whlk2czP"
      },
      "execution_count": 65,
      "outputs": []
    },
    {
      "cell_type": "markdown",
      "source": [
        "# **MODEL**"
      ],
      "metadata": {
        "id": "J2DusZ8vG8Jt"
      }
    },
    {
      "cell_type": "code",
      "source": [
        "from numpy import log,dot,exp,shape\n",
        "class LogisticRegression:\n",
        "    def sigmoid(self,z):\n",
        "        sig = 1/(1+exp(-z))\n",
        "        return sig\n",
        "    def initialize(self,X):\n",
        "        weights = np.zeros((shape(X)[1]+1,1))\n",
        "        X = np.c_[np.ones((shape(X)[0],1)),X]\n",
        "        return weights,X\n",
        "    def fit(self,X,y,alpha=0.002,iter=3000):\n",
        "        weights,X = self.initialize(X)\n",
        "        # Binary Cross Entropy Loss\n",
        "        def cost(theta):\n",
        "            z = dot(X,theta)\n",
        "            cost0 = y.T.dot(log(self.sigmoid(z)))\n",
        "            cost1 = (1-y).T.dot(log(1-self.sigmoid(z)))\n",
        "            cost = -((cost1 + cost0))/len(y)\n",
        "            return cost\n",
        "            # MSE LOSS\n",
        "        # def cost(theta):\n",
        "        #   z = dot(X,theta)\n",
        "        #   cost = (self.sigmoid(z) - y)**2;\n",
        "        #   return cost\n",
        "        cost_list = np.zeros(iter,)\n",
        "        for i in range(iter):\n",
        "            weights = weights - alpha*dot(X.T,self.sigmoid(dot(X,weights))-np.reshape(y,(len(y),1)))\n",
        "            cost_list[i] = cost(weights)\n",
        "        self.weights = weights\n",
        "        return cost_list\n",
        "    def predict(self,X):\n",
        "        z = dot(self.initialize(X)[1],self.weights)\n",
        "        lis = []\n",
        "        for i in self.sigmoid(z):\n",
        "            if i>0.5:\n",
        "                lis.append(1)\n",
        "            else:\n",
        "                lis.append(0)\n",
        "        return lis"
      ],
      "metadata": {
        "id": "VZyrA0P7yZ-Z"
      },
      "execution_count": 66,
      "outputs": []
    },
    {
      "cell_type": "code",
      "source": [
        "standardize(X_train)\n",
        "standardize(X_test)\n",
        "obj1 = LogisticRegression()"
      ],
      "metadata": {
        "id": "dEWDQSVQygsJ"
      },
      "execution_count": 67,
      "outputs": []
    },
    {
      "cell_type": "code",
      "source": [
        "model= obj1.fit(X_train,y_train)\n",
        "print(\"Indivisual Cost :\")\n",
        "print(model)\n",
        "print(\"Total Cost :\")\n",
        "print(sum(model))\n",
        "y_pred = obj1.predict(X_test)\n",
        "y_tr = obj1.predict(X_train)"
      ],
      "metadata": {
        "colab": {
          "base_uri": "https://localhost:8080/"
        },
        "id": "NfxSR5If2OQB",
        "outputId": "3b65c597-c403-4bf8-9e11-d7083530f27c"
      },
      "execution_count": 68,
      "outputs": [
        {
          "output_type": "stream",
          "name": "stdout",
          "text": [
            "Indivisual Cost :\n",
            "[0.60571152 0.54893591 0.51053763 ... 0.36121907 0.36121907 0.36121907]\n",
            "Total Cost :\n",
            "1085.3815445029295\n"
          ]
        }
      ]
    },
    {
      "cell_type": "code",
      "source": [
        "f1_score_tr = F1_score(y_train,y_tr)\n",
        "f1_score_te = F1_score(y_test,y_pred)\n",
        "print(\"Performance Using Defining The Model On Training Data\")\n",
        "print(f1_score_tr)\n",
        "print(\"Performance Using Defining The Model On Test Data\")\n",
        "print(f1_score_te)"
      ],
      "metadata": {
        "id": "pBhXZNA42gzx",
        "colab": {
          "base_uri": "https://localhost:8080/"
        },
        "outputId": "2405582d-43ec-4e30-c848-bc7fac9db325"
      },
      "execution_count": 69,
      "outputs": [
        {
          "output_type": "stream",
          "name": "stdout",
          "text": [
            "Performance Using Defining The Model On Training Data\n",
            "0.7777777777777778\n",
            "Performance Using Defining The Model On Test Data\n",
            "0.782608695652174\n"
          ]
        }
      ]
    },
    {
      "cell_type": "code",
      "source": [
        "from sklearn.linear_model import LogisticRegression\n",
        "from sklearn.metrics import f1_score\n",
        "LR = LogisticRegression(random_state = 0)\n",
        "LR.fit(X_train,y_train)\n",
        "y_pred=LR.predict(X_test)\n",
        "print(\"Performance Using InBuilt LogisticRegression Model On Test Data\")\n",
        "print(f1_score(y_test,y_pred))"
      ],
      "metadata": {
        "id": "KYU4NGKv4KQZ",
        "colab": {
          "base_uri": "https://localhost:8080/"
        },
        "outputId": "43a73856-8062-47c1-e29e-9d9043865c78"
      },
      "execution_count": 70,
      "outputs": [
        {
          "output_type": "stream",
          "name": "stdout",
          "text": [
            "Performance Using InBuilt LogisticRegression Model On Test Data\n",
            "0.782608695652174\n"
          ]
        }
      ]
    }
  ]
}