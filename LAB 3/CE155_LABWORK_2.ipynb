{
  "nbformat": 4,
  "nbformat_minor": 0,
  "metadata": {
    "colab": {
      "provenance": [],
      "include_colab_link": true
    },
    "kernelspec": {
      "name": "python3",
      "display_name": "Python 3"
    },
    "language_info": {
      "name": "python"
    }
  },
  "cells": [
    {
      "cell_type": "markdown",
      "metadata": {
        "id": "view-in-github",
        "colab_type": "text"
      },
      "source": [
        "<a href=\"https://colab.research.google.com/github/vatsalvasani/CE155_ML/blob/main/LAB%203/CE155_LABWORK_2.ipynb\" target=\"_parent\"><img src=\"https://colab.research.google.com/assets/colab-badge.svg\" alt=\"Open In Colab\"/></a>"
      ]
    },
    {
      "cell_type": "markdown",
      "source": [
        "# **2_NB_Classifier_Iris_2Classes**"
      ],
      "metadata": {
        "id": "UoMxb-hWQlPn"
      }
    },
    {
      "cell_type": "code",
      "execution_count": 1,
      "metadata": {
        "id": "lPdYCyvVQbtr"
      },
      "outputs": [],
      "source": [
        "#Import scikit-learn dataset library\n",
        "import numpy as np\n",
        "from sklearn import datasets\n",
        "from sklearn.naive_bayes import GaussianNB"
      ]
    },
    {
      "cell_type": "code",
      "source": [
        "#Load dataset\n",
        "iris = datasets.load_iris()"
      ],
      "metadata": {
        "id": "RDsAW3JkQtWr"
      },
      "execution_count": 2,
      "outputs": []
    },
    {
      "cell_type": "code",
      "source": [
        "# print the names of the 13 features\n",
        "print(\"Features: \", iris.feature_names)\n",
        "\n",
        "# print the label type of wine(class_0, class_1, class_2)\n",
        "print(\"Labels: \", iris.target_names)\n",
        "\n",
        "# print data(feature)shape\n",
        "print(\"\\nData shape: \",iris.data.shape)\n",
        "\n",
        "#print data(target)shape\n",
        "print(\"\\nTraget shape: \",iris.target.shape)\n",
        "\n",
        "# print(\"\\nData: \",iris.data)\n",
        "# print(\"\\nTarget: \",iris.target)\n",
        "\n",
        "print(\"\\nData type: \",type(iris.data))\n",
        "newdata = iris.data[50:,:]\n",
        "newtarget = iris.target[50:]\n",
        "\n",
        "# print data(feature)shape\n",
        "\n",
        "print(\"\\nNew Data shape: \",newdata.shape)\n",
        "\n",
        "#print data(target)shape\n",
        "print(\"\\nNew Traget shape: \",newtarget.shape)"
      ],
      "metadata": {
        "colab": {
          "base_uri": "https://localhost:8080/"
        },
        "id": "YyLy2MDgQwXr",
        "outputId": "a4addd77-2da2-4530-a7dc-2976ca2b574e"
      },
      "execution_count": 3,
      "outputs": [
        {
          "output_type": "stream",
          "name": "stdout",
          "text": [
            "Features:  ['sepal length (cm)', 'sepal width (cm)', 'petal length (cm)', 'petal width (cm)']\n",
            "Labels:  ['setosa' 'versicolor' 'virginica']\n",
            "\n",
            "Data shape:  (150, 4)\n",
            "\n",
            "Traget shape:  (150,)\n",
            "\n",
            "Data type:  <class 'numpy.ndarray'>\n",
            "\n",
            "New Data shape:  (100, 4)\n",
            "\n",
            "New Traget shape:  (100,)\n"
          ]
        }
      ]
    },
    {
      "cell_type": "code",
      "source": [
        "#import the necessary module\n",
        "from sklearn.model_selection import train_test_split\n",
        "#split data set into train and test sets\n",
        "data_train, data_test, target_train, target_test = train_test_split(newdata,\n",
        "newtarget, test_size = 0.30, random_state = 5)"
      ],
      "metadata": {
        "id": "ezOeWWrBRsBR"
      },
      "execution_count": 4,
      "outputs": []
    },
    {
      "cell_type": "code",
      "source": [
        "import numpy as np\n",
        "gnb = GaussianNB()\n",
        "#Train the model using the training sets\n",
        "gnb.fit(data_train, target_train)\n",
        "#Predict the response for test dataset\n",
        "target_pred = gnb.predict(data_test)"
      ],
      "metadata": {
        "id": "-iQ5tnQhSKkE"
      },
      "execution_count": 5,
      "outputs": []
    },
    {
      "cell_type": "code",
      "source": [
        "#Import scikit-learn metrics module for accuracy calculation\n",
        "from sklearn import metrics\n",
        "# Model Accuracy, how often is the classifier correct?\n",
        "print(\"Accuracy:\",metrics.accuracy_score(target_test, target_pred))"
      ],
      "metadata": {
        "colab": {
          "base_uri": "https://localhost:8080/"
        },
        "id": "MVja2-SdSVfu",
        "outputId": "37c5be9c-3834-4d3a-f28e-38c055923f1a"
      },
      "execution_count": 6,
      "outputs": [
        {
          "output_type": "stream",
          "name": "stdout",
          "text": [
            "Accuracy: 0.9\n"
          ]
        }
      ]
    },
    {
      "cell_type": "code",
      "source": [
        "#Import confusion_matrix from scikit-learn metrics module for confusion_matrix\n",
        "from sklearn.metrics import confusion_matrix\n",
        "confusion_matrix(target_test, target_pred)"
      ],
      "metadata": {
        "colab": {
          "base_uri": "https://localhost:8080/"
        },
        "id": "2oQZx1PCSYq_",
        "outputId": "707602cd-518d-4d9c-bd2a-cc8a940cf088"
      },
      "execution_count": 7,
      "outputs": [
        {
          "output_type": "execute_result",
          "data": {
            "text/plain": [
              "array([[16,  1],\n",
              "       [ 2, 11]])"
            ]
          },
          "metadata": {},
          "execution_count": 7
        }
      ]
    },
    {
      "cell_type": "code",
      "source": [
        "from sklearn.metrics import precision_score\n",
        "from sklearn.metrics import recall_score\n",
        "precision = precision_score(target_test, target_pred)\n",
        "recall = recall_score(target_test, target_pred)\n",
        "print('precision: {}'.format(precision))\n",
        "print('recall: {}'.format(recall))"
      ],
      "metadata": {
        "colab": {
          "base_uri": "https://localhost:8080/"
        },
        "id": "0MjiAtaFSlnP",
        "outputId": "5e55b3bb-d063-49c8-b3b1-1228ccacfd05"
      },
      "execution_count": 8,
      "outputs": [
        {
          "output_type": "stream",
          "name": "stdout",
          "text": [
            "precision: 0.8888888888888888\n",
            "recall: 0.9411764705882353\n"
          ]
        }
      ]
    }
  ]
}